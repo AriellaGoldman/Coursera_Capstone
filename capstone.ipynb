{
 "cells": [
  {
   "cell_type": "markdown",
   "metadata": {},
   "source": [
    "# IBM Data Science Capstone Project: \n",
    "# Predicting the Severity of a Potential Accident\n",
    "Case Study: Predict the severity of an accident\n",
    "\n",
    "by Ariella Goldman"
   ]
  },
  {
   "cell_type": "markdown",
   "metadata": {},
   "source": [
    "## Table of Contents:\n",
    "1 [Introduction: Business Understanding](#1) <br>\n",
    "2 [Data Understanding](#2) <br>\n",
    "&emsp; 2.1 [About the Data](#2.1) <br>\n",
    "&emsp; 2.2 [Load Data](#2.2) <br>\n",
    "3 [Data Preparation](#3) <br>\n",
    "&emsp; 3.1 [Sample the Data](#3.1) <br>\n",
    "&emsp; 3.2 [Rename and Drop Columns](#3.2) <br>\n",
    "&emsp; 3.3 [Check for Missing Data](#3.3) <br>\n",
    "&emsp; 3.4 [Data Exploration and Visualizations](#3.4) <br>\n",
    "&emsp; 3.5 [Create Features](#3.5) <br>\n",
    "4 [Modeling](#4) <br>\n",
    "&emsp; 4.1 [Train Test Split](#4.1) <br>\n",
    "&emsp; 4.2 [K-Nearest Neighbors](#4.2) <br>\n",
    "&emsp; 4.3 [Decision Tree](#4.3) <br>\n",
    "&emsp; 4.4 [Random Forest](#4.4) <br>\n",
    "&emsp; 4.5 [Support Vector Machine](#4.5) <br>\n",
    "&emsp; 4.6 [Logistic Regression](#4.6) <br>\n",
    "5 [Results and Evaluation](#5) <br>\n",
    "6 [Deployment](#6) <br>\n",
    "&emsp; 6.1 [Report](#6.1) <br>\n",
    "7 [Conclusion](#7) <br>\n"
   ]
  },
  {
   "cell_type": "markdown",
   "metadata": {},
   "source": [
    "## Introduction: Business Understanding <a class=\"anchor\" id=\"1\"></a>\n",
    "The initial phase is to understand the project's objective from the business or application perspective. Then, you need to translate this knowledge into a machine learning problem with a preliminary plan to achieve the objectives.\n",
    "\n",
    "The objective of this project is to predict the severity of an accident. If something could warn you, given maybe the weather and the road conditions, about how severe a potential accident would be, you might drive more carefully or perhaps change your travel plans. "
   ]
  },
  {
   "cell_type": "markdown",
   "metadata": {},
   "source": [
    "Audience: Stakeholders of an insurance company. \n",
    "\n",
    "Problem: Insurance company is spending too much money of out their spending budget on car repairs (from insurees' car collisions).\n",
    "\n",
    "Collision insurance is a coverage that helps pay to repair or replace your car if it's damaged in an accident with another vehicle or object, such as a fence or a tree. Car insurance companies are responsible for paying money for car repairs when certain collision requirements are met. It is in the insurance company's best interest that cars do not get damaged or get damaged minimally, so that insurance companies do not need to put up the money for car repairs.\n",
    "\n",
    "Insurance companies often offer lower insurance premiums to drivers who pass drivers' education courses. Because the companies recognise that educated drivers will cost the company less money overall, they offer incentive to drivers to participate in drivers' education courses. Insurance companies recognize that they benefit from drivers' education.\n",
    "\n",
    "Predictive analytics concerning the severity of car collisions can also benefit insurance companies. If drivers can get information about the severity of a potential car crash, drivers can make educated decisions. No sane driver wants to get into a crash and cause damage to either himself or his car. The more empowered a driver is about the driving conditions, the less likely it will be for insurance companies to be responsible for covering automobile collisions. \n",
    "\n",
    "Modeling car collision severity prediction and improving the model are critical to the effective performance of drivers for improved safety and less damage. In accident severity modeling, the input vectors are the characteristics of the accident, such as road and environment characteristics while the output vector is the corresponding class of accident severity."
   ]
  },
  {
   "cell_type": "markdown",
   "metadata": {},
   "source": [
    "Import libraries into notebook"
   ]
  },
  {
   "cell_type": "code",
   "execution_count": 1,
   "metadata": {},
   "outputs": [],
   "source": [
    "import pandas as pd\n",
    "import numpy as np\n",
    "import matplotlib.pyplot as plt\n",
    "import seaborn as sns\n",
    "from sklearn import preprocessing\n",
    "from sklearn.utils import resample\n",
    "from sklearn.model_selection import train_test_split\n",
    "from sklearn.neighbors import KNeighborsClassifier\n",
    "from sklearn.linear_model import LogisticRegression\n",
    "from sklearn import svm\n",
    "from sklearn.tree import DecisionTreeClassifier\n",
    "from sklearn.ensemble import RandomForestClassifier\n",
    "from sklearn.metrics import accuracy_score\n",
    "from sklearn.metrics import classification_report\n",
    "from sklearn.metrics import jaccard_score\n",
    "from sklearn.metrics import f1_score\n",
    "from sklearn.metrics import log_loss\n",
    "%matplotlib inline"
   ]
  },
  {
   "cell_type": "code",
   "execution_count": 2,
   "metadata": {},
   "outputs": [
    {
     "name": "stdout",
     "output_type": "stream",
     "text": [
      "Hello Capstone Project Course!\n"
     ]
    }
   ],
   "source": [
    "print(\"Hello Capstone Project Course!\")"
   ]
  },
  {
   "cell_type": "markdown",
   "metadata": {},
   "source": []
  },
  {
   "cell_type": "markdown",
   "metadata": {},
   "source": [
    "## Data Understanding <a class=\"anchor\" id=\"2\"></a>\n"
   ]
  },
  {
   "cell_type": "markdown",
   "metadata": {},
   "source": [
    "### About the data <a class=\"anchor\" id=\"2.1\"></a>\n",
    "\n",
    "This data set is about accident (car collisions) severity. This data includes all types of collisions. The data dates weekly from 2004 to present. The data has been collected from the Seattle Department of Transportation.\n",
    "\n",
    "The data set contains information about car collisions concerning both external and internal aspects. External factors include weather, road conditions, light conditions, day of week and time of day. Internal factors include collision address type (ie alley, block, intersection), whether a driver was speeding, whether the collision was due to inattention, whether a driver was under the influence of alcohol or drugs. \n",
    "\n",
    "This data set contains 194673 rows. There are 37 attributes, some numeric and some categorical. Some attributes have missing data. The data set is labeled with the severity of the accident - \"1\" or \"2\" indicating property damage or injury, respectively. My assumption is that severity level 2 \"injury\" includes property damage. This is not a balanced labeled dataset. Metadata about the dataset can be found at https://s3.us.cloud-object-storage.appdomain.cloud/cf-courses-data/CognitiveClass/DP0701EN/version-2/Metadata.pdf.  \n",
    "\n",
    "Use KNN/Decision Tree/Random Forest/Logisitc Regression classification algorithms from sklearn to predict the accident severity. Categorical data will be treated with Pandas get_dummies method. Rows with missing values will be dropped."
   ]
  },
  {
   "cell_type": "markdown",
   "metadata": {},
   "source": [
    "### Load Data from CSV file <a class=\"anchor\" id=\"2.2\"></a>"
   ]
  },
  {
   "cell_type": "code",
   "execution_count": 3,
   "metadata": {},
   "outputs": [
    {
     "data": {
      "text/html": [
       "<div>\n",
       "<style scoped>\n",
       "    .dataframe tbody tr th:only-of-type {\n",
       "        vertical-align: middle;\n",
       "    }\n",
       "\n",
       "    .dataframe tbody tr th {\n",
       "        vertical-align: top;\n",
       "    }\n",
       "\n",
       "    .dataframe thead th {\n",
       "        text-align: right;\n",
       "    }\n",
       "</style>\n",
       "<table border=\"1\" class=\"dataframe\">\n",
       "  <thead>\n",
       "    <tr style=\"text-align: right;\">\n",
       "      <th></th>\n",
       "      <th>SEVERITYCODE</th>\n",
       "      <th>X</th>\n",
       "      <th>Y</th>\n",
       "      <th>OBJECTID</th>\n",
       "      <th>INCKEY</th>\n",
       "      <th>COLDETKEY</th>\n",
       "      <th>REPORTNO</th>\n",
       "      <th>STATUS</th>\n",
       "      <th>ADDRTYPE</th>\n",
       "      <th>INTKEY</th>\n",
       "      <th>...</th>\n",
       "      <th>ROADCOND</th>\n",
       "      <th>LIGHTCOND</th>\n",
       "      <th>PEDROWNOTGRNT</th>\n",
       "      <th>SDOTCOLNUM</th>\n",
       "      <th>SPEEDING</th>\n",
       "      <th>ST_COLCODE</th>\n",
       "      <th>ST_COLDESC</th>\n",
       "      <th>SEGLANEKEY</th>\n",
       "      <th>CROSSWALKKEY</th>\n",
       "      <th>HITPARKEDCAR</th>\n",
       "    </tr>\n",
       "  </thead>\n",
       "  <tbody>\n",
       "    <tr>\n",
       "      <th>0</th>\n",
       "      <td>2</td>\n",
       "      <td>-122.323148</td>\n",
       "      <td>47.703140</td>\n",
       "      <td>1</td>\n",
       "      <td>1307.0</td>\n",
       "      <td>1307.0</td>\n",
       "      <td>3502005</td>\n",
       "      <td>Matched</td>\n",
       "      <td>Intersection</td>\n",
       "      <td>37475.0</td>\n",
       "      <td>...</td>\n",
       "      <td>Wet</td>\n",
       "      <td>Daylight</td>\n",
       "      <td>NaN</td>\n",
       "      <td>NaN</td>\n",
       "      <td>NaN</td>\n",
       "      <td>10</td>\n",
       "      <td>Entering at angle</td>\n",
       "      <td>0.0</td>\n",
       "      <td>0.0</td>\n",
       "      <td>N</td>\n",
       "    </tr>\n",
       "    <tr>\n",
       "      <th>1</th>\n",
       "      <td>1</td>\n",
       "      <td>-122.347294</td>\n",
       "      <td>47.647172</td>\n",
       "      <td>2</td>\n",
       "      <td>52200.0</td>\n",
       "      <td>52200.0</td>\n",
       "      <td>2607959</td>\n",
       "      <td>Matched</td>\n",
       "      <td>Block</td>\n",
       "      <td>NaN</td>\n",
       "      <td>...</td>\n",
       "      <td>Wet</td>\n",
       "      <td>Dark - Street Lights On</td>\n",
       "      <td>NaN</td>\n",
       "      <td>6354039</td>\n",
       "      <td>NaN</td>\n",
       "      <td>11</td>\n",
       "      <td>From same direction - both going straight - bo...</td>\n",
       "      <td>0.0</td>\n",
       "      <td>0.0</td>\n",
       "      <td>N</td>\n",
       "    </tr>\n",
       "    <tr>\n",
       "      <th>2</th>\n",
       "      <td>1</td>\n",
       "      <td>-122.334540</td>\n",
       "      <td>47.607871</td>\n",
       "      <td>3</td>\n",
       "      <td>26700.0</td>\n",
       "      <td>26700.0</td>\n",
       "      <td>1482393</td>\n",
       "      <td>Matched</td>\n",
       "      <td>Block</td>\n",
       "      <td>NaN</td>\n",
       "      <td>...</td>\n",
       "      <td>Dry</td>\n",
       "      <td>Daylight</td>\n",
       "      <td>NaN</td>\n",
       "      <td>4323031</td>\n",
       "      <td>NaN</td>\n",
       "      <td>32</td>\n",
       "      <td>One parked--one moving</td>\n",
       "      <td>0.0</td>\n",
       "      <td>0.0</td>\n",
       "      <td>N</td>\n",
       "    </tr>\n",
       "    <tr>\n",
       "      <th>3</th>\n",
       "      <td>1</td>\n",
       "      <td>-122.334803</td>\n",
       "      <td>47.604803</td>\n",
       "      <td>4</td>\n",
       "      <td>1144.0</td>\n",
       "      <td>1144.0</td>\n",
       "      <td>3503937</td>\n",
       "      <td>Matched</td>\n",
       "      <td>Block</td>\n",
       "      <td>NaN</td>\n",
       "      <td>...</td>\n",
       "      <td>Dry</td>\n",
       "      <td>Daylight</td>\n",
       "      <td>NaN</td>\n",
       "      <td>NaN</td>\n",
       "      <td>NaN</td>\n",
       "      <td>23</td>\n",
       "      <td>From same direction - all others</td>\n",
       "      <td>0.0</td>\n",
       "      <td>0.0</td>\n",
       "      <td>N</td>\n",
       "    </tr>\n",
       "    <tr>\n",
       "      <th>4</th>\n",
       "      <td>2</td>\n",
       "      <td>-122.306426</td>\n",
       "      <td>47.545739</td>\n",
       "      <td>5</td>\n",
       "      <td>17700.0</td>\n",
       "      <td>17700.0</td>\n",
       "      <td>1807429</td>\n",
       "      <td>Matched</td>\n",
       "      <td>Intersection</td>\n",
       "      <td>34387.0</td>\n",
       "      <td>...</td>\n",
       "      <td>Wet</td>\n",
       "      <td>Daylight</td>\n",
       "      <td>NaN</td>\n",
       "      <td>4028032</td>\n",
       "      <td>NaN</td>\n",
       "      <td>10</td>\n",
       "      <td>Entering at angle</td>\n",
       "      <td>0.0</td>\n",
       "      <td>0.0</td>\n",
       "      <td>N</td>\n",
       "    </tr>\n",
       "  </tbody>\n",
       "</table>\n",
       "<p>5 rows × 38 columns</p>\n",
       "</div>"
      ],
      "text/plain": [
       "  SEVERITYCODE           X          Y  OBJECTID   INCKEY  COLDETKEY REPORTNO  \\\n",
       "0            2 -122.323148  47.703140         1   1307.0     1307.0  3502005   \n",
       "1            1 -122.347294  47.647172         2  52200.0    52200.0  2607959   \n",
       "2            1 -122.334540  47.607871         3  26700.0    26700.0  1482393   \n",
       "3            1 -122.334803  47.604803         4   1144.0     1144.0  3503937   \n",
       "4            2 -122.306426  47.545739         5  17700.0    17700.0  1807429   \n",
       "\n",
       "    STATUS      ADDRTYPE   INTKEY  ... ROADCOND                LIGHTCOND  \\\n",
       "0  Matched  Intersection  37475.0  ...      Wet                 Daylight   \n",
       "1  Matched         Block      NaN  ...      Wet  Dark - Street Lights On   \n",
       "2  Matched         Block      NaN  ...      Dry                 Daylight   \n",
       "3  Matched         Block      NaN  ...      Dry                 Daylight   \n",
       "4  Matched  Intersection  34387.0  ...      Wet                 Daylight   \n",
       "\n",
       "  PEDROWNOTGRNT SDOTCOLNUM SPEEDING ST_COLCODE  \\\n",
       "0           NaN        NaN      NaN         10   \n",
       "1           NaN    6354039      NaN         11   \n",
       "2           NaN    4323031      NaN         32   \n",
       "3           NaN        NaN      NaN         23   \n",
       "4           NaN    4028032      NaN         10   \n",
       "\n",
       "                                          ST_COLDESC  SEGLANEKEY  \\\n",
       "0                                  Entering at angle         0.0   \n",
       "1  From same direction - both going straight - bo...         0.0   \n",
       "2                             One parked--one moving         0.0   \n",
       "3                   From same direction - all others         0.0   \n",
       "4                                  Entering at angle         0.0   \n",
       "\n",
       "   CROSSWALKKEY  HITPARKEDCAR  \n",
       "0           0.0             N  \n",
       "1           0.0             N  \n",
       "2           0.0             N  \n",
       "3           0.0             N  \n",
       "4           0.0             N  \n",
       "\n",
       "[5 rows x 38 columns]"
      ]
     },
     "execution_count": 3,
     "metadata": {},
     "output_type": "execute_result"
    }
   ],
   "source": [
    "df = pd.read_csv('Data-Collisions.csv', dtype={'SEVERITYCODE': object, 'X': float, 'Y': float, 'OBJECTID': 'int64',\n",
    "                                               'INCKEY': float, 'COLDETKEY': float, 'REPORTNO': object,\n",
    "                                               'STATUS': object, 'ADDRTYPE': object, 'INTKEY': float,\n",
    "                                               'LOCATION': object, 'EXCEPTRSNCODE': object, 'EXCEPTRSNDESC': object,\n",
    "                                               'SEVERITYCODE.1': object, 'SEVERITYDESC': object, 'PERSONCOUNT': float,\n",
    "                                               'PEDCOUNT': float, 'PEDCYLCOUNT': float, 'VEHCOUNT': float,\n",
    "                                               'INCDATE': object, 'INCDTTM': object, 'JUNCTIONTYPE': object,\n",
    "                                               'SDOT_COLCODE': object, 'SDOT_COLDESC': object, 'HITPARKEDCAR': object,\n",
    "                                               'INATTENTIONIND': object, 'UNDERINFL': object, 'WEATHER': object,\n",
    "                                               'ROADCOND': object, 'LIGHTCOND': object, 'PEDROWNOTGRNT': object,\n",
    "                                               'SDOTCOLNUM': object, 'SPEEDING': object, 'ST_COLCODE': object,\n",
    "                                               'ST_COLDESC': object, 'SEGLANEKEY': float, 'CROSSWALKKEY': float})\n",
    "df.head()"
   ]
  },
  {
   "cell_type": "code",
   "execution_count": 4,
   "metadata": {},
   "outputs": [
    {
     "data": {
      "text/plain": [
       "(194673, 38)"
      ]
     },
     "execution_count": 4,
     "metadata": {},
     "output_type": "execute_result"
    }
   ],
   "source": [
    "df.shape"
   ]
  },
  {
   "cell_type": "markdown",
   "metadata": {},
   "source": [
    "So our dataset consists of 194,673 rows. Each row represents a collission, and for each collission, there's a ton of other information."
   ]
  },
  {
   "cell_type": "code",
   "execution_count": 5,
   "metadata": {},
   "outputs": [
    {
     "name": "stdout",
     "output_type": "stream",
     "text": [
      "<class 'pandas.core.frame.DataFrame'>\n",
      "RangeIndex: 194673 entries, 0 to 194672\n",
      "Data columns (total 38 columns):\n",
      " #   Column          Non-Null Count   Dtype  \n",
      "---  ------          --------------   -----  \n",
      " 0   SEVERITYCODE    194673 non-null  object \n",
      " 1   X               189339 non-null  float64\n",
      " 2   Y               189339 non-null  float64\n",
      " 3   OBJECTID        194673 non-null  int64  \n",
      " 4   INCKEY          194673 non-null  float64\n",
      " 5   COLDETKEY       194673 non-null  float64\n",
      " 6   REPORTNO        194673 non-null  object \n",
      " 7   STATUS          194673 non-null  object \n",
      " 8   ADDRTYPE        192747 non-null  object \n",
      " 9   INTKEY          65070 non-null   float64\n",
      " 10  LOCATION        191996 non-null  object \n",
      " 11  EXCEPTRSNCODE   84811 non-null   object \n",
      " 12  EXCEPTRSNDESC   5638 non-null    object \n",
      " 13  SEVERITYCODE.1  194673 non-null  object \n",
      " 14  SEVERITYDESC    194673 non-null  object \n",
      " 15  COLLISIONTYPE   189769 non-null  object \n",
      " 16  PERSONCOUNT     194673 non-null  float64\n",
      " 17  PEDCOUNT        194673 non-null  float64\n",
      " 18  PEDCYLCOUNT     194673 non-null  float64\n",
      " 19  VEHCOUNT        194673 non-null  float64\n",
      " 20  INCDATE         194673 non-null  object \n",
      " 21  INCDTTM         194673 non-null  object \n",
      " 22  JUNCTIONTYPE    188344 non-null  object \n",
      " 23  SDOT_COLCODE    194673 non-null  object \n",
      " 24  SDOT_COLDESC    194673 non-null  object \n",
      " 25  INATTENTIONIND  29805 non-null   object \n",
      " 26  UNDERINFL       189789 non-null  object \n",
      " 27  WEATHER         189592 non-null  object \n",
      " 28  ROADCOND        189661 non-null  object \n",
      " 29  LIGHTCOND       189503 non-null  object \n",
      " 30  PEDROWNOTGRNT   4667 non-null    object \n",
      " 31  SDOTCOLNUM      114936 non-null  object \n",
      " 32  SPEEDING        9333 non-null    object \n",
      " 33  ST_COLCODE      194655 non-null  object \n",
      " 34  ST_COLDESC      189769 non-null  object \n",
      " 35  SEGLANEKEY      194673 non-null  float64\n",
      " 36  CROSSWALKKEY    194673 non-null  float64\n",
      " 37  HITPARKEDCAR    194673 non-null  object \n",
      "dtypes: float64(11), int64(1), object(26)\n",
      "memory usage: 56.4+ MB\n"
     ]
    }
   ],
   "source": [
    "df.info()"
   ]
  },
  {
   "cell_type": "code",
   "execution_count": 6,
   "metadata": {},
   "outputs": [
    {
     "data": {
      "text/html": [
       "<div>\n",
       "<style scoped>\n",
       "    .dataframe tbody tr th:only-of-type {\n",
       "        vertical-align: middle;\n",
       "    }\n",
       "\n",
       "    .dataframe tbody tr th {\n",
       "        vertical-align: top;\n",
       "    }\n",
       "\n",
       "    .dataframe thead th {\n",
       "        text-align: right;\n",
       "    }\n",
       "</style>\n",
       "<table border=\"1\" class=\"dataframe\">\n",
       "  <thead>\n",
       "    <tr style=\"text-align: right;\">\n",
       "      <th></th>\n",
       "      <th>SEVERITYCODE</th>\n",
       "      <th>X</th>\n",
       "      <th>Y</th>\n",
       "      <th>OBJECTID</th>\n",
       "      <th>INCKEY</th>\n",
       "      <th>COLDETKEY</th>\n",
       "      <th>REPORTNO</th>\n",
       "      <th>STATUS</th>\n",
       "      <th>ADDRTYPE</th>\n",
       "      <th>INTKEY</th>\n",
       "      <th>...</th>\n",
       "      <th>ROADCOND</th>\n",
       "      <th>LIGHTCOND</th>\n",
       "      <th>PEDROWNOTGRNT</th>\n",
       "      <th>SDOTCOLNUM</th>\n",
       "      <th>SPEEDING</th>\n",
       "      <th>ST_COLCODE</th>\n",
       "      <th>ST_COLDESC</th>\n",
       "      <th>SEGLANEKEY</th>\n",
       "      <th>CROSSWALKKEY</th>\n",
       "      <th>HITPARKEDCAR</th>\n",
       "    </tr>\n",
       "  </thead>\n",
       "  <tbody>\n",
       "    <tr>\n",
       "      <th>count</th>\n",
       "      <td>194673</td>\n",
       "      <td>189339.000000</td>\n",
       "      <td>189339.000000</td>\n",
       "      <td>194673.000000</td>\n",
       "      <td>194673.000000</td>\n",
       "      <td>194673.000000</td>\n",
       "      <td>194673</td>\n",
       "      <td>194673</td>\n",
       "      <td>192747</td>\n",
       "      <td>65070.000000</td>\n",
       "      <td>...</td>\n",
       "      <td>189661</td>\n",
       "      <td>189503</td>\n",
       "      <td>4667</td>\n",
       "      <td>114936</td>\n",
       "      <td>9333</td>\n",
       "      <td>194655</td>\n",
       "      <td>189769</td>\n",
       "      <td>194673.000000</td>\n",
       "      <td>1.946730e+05</td>\n",
       "      <td>194673</td>\n",
       "    </tr>\n",
       "    <tr>\n",
       "      <th>unique</th>\n",
       "      <td>2</td>\n",
       "      <td>NaN</td>\n",
       "      <td>NaN</td>\n",
       "      <td>NaN</td>\n",
       "      <td>NaN</td>\n",
       "      <td>NaN</td>\n",
       "      <td>194670</td>\n",
       "      <td>2</td>\n",
       "      <td>3</td>\n",
       "      <td>NaN</td>\n",
       "      <td>...</td>\n",
       "      <td>9</td>\n",
       "      <td>9</td>\n",
       "      <td>1</td>\n",
       "      <td>114932</td>\n",
       "      <td>1</td>\n",
       "      <td>63</td>\n",
       "      <td>62</td>\n",
       "      <td>NaN</td>\n",
       "      <td>NaN</td>\n",
       "      <td>2</td>\n",
       "    </tr>\n",
       "    <tr>\n",
       "      <th>top</th>\n",
       "      <td>1</td>\n",
       "      <td>NaN</td>\n",
       "      <td>NaN</td>\n",
       "      <td>NaN</td>\n",
       "      <td>NaN</td>\n",
       "      <td>NaN</td>\n",
       "      <td>1776526</td>\n",
       "      <td>Matched</td>\n",
       "      <td>Block</td>\n",
       "      <td>NaN</td>\n",
       "      <td>...</td>\n",
       "      <td>Dry</td>\n",
       "      <td>Daylight</td>\n",
       "      <td>Y</td>\n",
       "      <td>4116048</td>\n",
       "      <td>Y</td>\n",
       "      <td>32</td>\n",
       "      <td>One parked--one moving</td>\n",
       "      <td>NaN</td>\n",
       "      <td>NaN</td>\n",
       "      <td>N</td>\n",
       "    </tr>\n",
       "    <tr>\n",
       "      <th>freq</th>\n",
       "      <td>136485</td>\n",
       "      <td>NaN</td>\n",
       "      <td>NaN</td>\n",
       "      <td>NaN</td>\n",
       "      <td>NaN</td>\n",
       "      <td>NaN</td>\n",
       "      <td>2</td>\n",
       "      <td>189786</td>\n",
       "      <td>126926</td>\n",
       "      <td>NaN</td>\n",
       "      <td>...</td>\n",
       "      <td>124510</td>\n",
       "      <td>116137</td>\n",
       "      <td>4667</td>\n",
       "      <td>2</td>\n",
       "      <td>9333</td>\n",
       "      <td>44421</td>\n",
       "      <td>44421</td>\n",
       "      <td>NaN</td>\n",
       "      <td>NaN</td>\n",
       "      <td>187457</td>\n",
       "    </tr>\n",
       "    <tr>\n",
       "      <th>mean</th>\n",
       "      <td>NaN</td>\n",
       "      <td>-122.330518</td>\n",
       "      <td>47.619543</td>\n",
       "      <td>108479.364930</td>\n",
       "      <td>141091.456350</td>\n",
       "      <td>141298.811381</td>\n",
       "      <td>NaN</td>\n",
       "      <td>NaN</td>\n",
       "      <td>NaN</td>\n",
       "      <td>37558.450576</td>\n",
       "      <td>...</td>\n",
       "      <td>NaN</td>\n",
       "      <td>NaN</td>\n",
       "      <td>NaN</td>\n",
       "      <td>NaN</td>\n",
       "      <td>NaN</td>\n",
       "      <td>NaN</td>\n",
       "      <td>NaN</td>\n",
       "      <td>269.401114</td>\n",
       "      <td>9.782452e+03</td>\n",
       "      <td>NaN</td>\n",
       "    </tr>\n",
       "    <tr>\n",
       "      <th>std</th>\n",
       "      <td>NaN</td>\n",
       "      <td>0.029976</td>\n",
       "      <td>0.056157</td>\n",
       "      <td>62649.722558</td>\n",
       "      <td>86634.402737</td>\n",
       "      <td>86986.542110</td>\n",
       "      <td>NaN</td>\n",
       "      <td>NaN</td>\n",
       "      <td>NaN</td>\n",
       "      <td>51745.990273</td>\n",
       "      <td>...</td>\n",
       "      <td>NaN</td>\n",
       "      <td>NaN</td>\n",
       "      <td>NaN</td>\n",
       "      <td>NaN</td>\n",
       "      <td>NaN</td>\n",
       "      <td>NaN</td>\n",
       "      <td>NaN</td>\n",
       "      <td>3315.776055</td>\n",
       "      <td>7.226926e+04</td>\n",
       "      <td>NaN</td>\n",
       "    </tr>\n",
       "    <tr>\n",
       "      <th>min</th>\n",
       "      <td>NaN</td>\n",
       "      <td>-122.419091</td>\n",
       "      <td>47.495573</td>\n",
       "      <td>1.000000</td>\n",
       "      <td>1001.000000</td>\n",
       "      <td>1001.000000</td>\n",
       "      <td>NaN</td>\n",
       "      <td>NaN</td>\n",
       "      <td>NaN</td>\n",
       "      <td>23807.000000</td>\n",
       "      <td>...</td>\n",
       "      <td>NaN</td>\n",
       "      <td>NaN</td>\n",
       "      <td>NaN</td>\n",
       "      <td>NaN</td>\n",
       "      <td>NaN</td>\n",
       "      <td>NaN</td>\n",
       "      <td>NaN</td>\n",
       "      <td>0.000000</td>\n",
       "      <td>0.000000e+00</td>\n",
       "      <td>NaN</td>\n",
       "    </tr>\n",
       "    <tr>\n",
       "      <th>25%</th>\n",
       "      <td>NaN</td>\n",
       "      <td>-122.348673</td>\n",
       "      <td>47.575956</td>\n",
       "      <td>54267.000000</td>\n",
       "      <td>70383.000000</td>\n",
       "      <td>70383.000000</td>\n",
       "      <td>NaN</td>\n",
       "      <td>NaN</td>\n",
       "      <td>NaN</td>\n",
       "      <td>28667.000000</td>\n",
       "      <td>...</td>\n",
       "      <td>NaN</td>\n",
       "      <td>NaN</td>\n",
       "      <td>NaN</td>\n",
       "      <td>NaN</td>\n",
       "      <td>NaN</td>\n",
       "      <td>NaN</td>\n",
       "      <td>NaN</td>\n",
       "      <td>0.000000</td>\n",
       "      <td>0.000000e+00</td>\n",
       "      <td>NaN</td>\n",
       "    </tr>\n",
       "    <tr>\n",
       "      <th>50%</th>\n",
       "      <td>NaN</td>\n",
       "      <td>-122.330224</td>\n",
       "      <td>47.615369</td>\n",
       "      <td>106912.000000</td>\n",
       "      <td>123363.000000</td>\n",
       "      <td>123363.000000</td>\n",
       "      <td>NaN</td>\n",
       "      <td>NaN</td>\n",
       "      <td>NaN</td>\n",
       "      <td>29973.000000</td>\n",
       "      <td>...</td>\n",
       "      <td>NaN</td>\n",
       "      <td>NaN</td>\n",
       "      <td>NaN</td>\n",
       "      <td>NaN</td>\n",
       "      <td>NaN</td>\n",
       "      <td>NaN</td>\n",
       "      <td>NaN</td>\n",
       "      <td>0.000000</td>\n",
       "      <td>0.000000e+00</td>\n",
       "      <td>NaN</td>\n",
       "    </tr>\n",
       "    <tr>\n",
       "      <th>75%</th>\n",
       "      <td>NaN</td>\n",
       "      <td>-122.311937</td>\n",
       "      <td>47.663664</td>\n",
       "      <td>162272.000000</td>\n",
       "      <td>203319.000000</td>\n",
       "      <td>203459.000000</td>\n",
       "      <td>NaN</td>\n",
       "      <td>NaN</td>\n",
       "      <td>NaN</td>\n",
       "      <td>33973.000000</td>\n",
       "      <td>...</td>\n",
       "      <td>NaN</td>\n",
       "      <td>NaN</td>\n",
       "      <td>NaN</td>\n",
       "      <td>NaN</td>\n",
       "      <td>NaN</td>\n",
       "      <td>NaN</td>\n",
       "      <td>NaN</td>\n",
       "      <td>0.000000</td>\n",
       "      <td>0.000000e+00</td>\n",
       "      <td>NaN</td>\n",
       "    </tr>\n",
       "    <tr>\n",
       "      <th>max</th>\n",
       "      <td>NaN</td>\n",
       "      <td>-122.238949</td>\n",
       "      <td>47.734142</td>\n",
       "      <td>219547.000000</td>\n",
       "      <td>331454.000000</td>\n",
       "      <td>332954.000000</td>\n",
       "      <td>NaN</td>\n",
       "      <td>NaN</td>\n",
       "      <td>NaN</td>\n",
       "      <td>757580.000000</td>\n",
       "      <td>...</td>\n",
       "      <td>NaN</td>\n",
       "      <td>NaN</td>\n",
       "      <td>NaN</td>\n",
       "      <td>NaN</td>\n",
       "      <td>NaN</td>\n",
       "      <td>NaN</td>\n",
       "      <td>NaN</td>\n",
       "      <td>525241.000000</td>\n",
       "      <td>5.239700e+06</td>\n",
       "      <td>NaN</td>\n",
       "    </tr>\n",
       "  </tbody>\n",
       "</table>\n",
       "<p>11 rows × 38 columns</p>\n",
       "</div>"
      ],
      "text/plain": [
       "       SEVERITYCODE              X              Y       OBJECTID  \\\n",
       "count        194673  189339.000000  189339.000000  194673.000000   \n",
       "unique            2            NaN            NaN            NaN   \n",
       "top               1            NaN            NaN            NaN   \n",
       "freq         136485            NaN            NaN            NaN   \n",
       "mean            NaN    -122.330518      47.619543  108479.364930   \n",
       "std             NaN       0.029976       0.056157   62649.722558   \n",
       "min             NaN    -122.419091      47.495573       1.000000   \n",
       "25%             NaN    -122.348673      47.575956   54267.000000   \n",
       "50%             NaN    -122.330224      47.615369  106912.000000   \n",
       "75%             NaN    -122.311937      47.663664  162272.000000   \n",
       "max             NaN    -122.238949      47.734142  219547.000000   \n",
       "\n",
       "               INCKEY      COLDETKEY REPORTNO   STATUS ADDRTYPE  \\\n",
       "count   194673.000000  194673.000000   194673   194673   192747   \n",
       "unique            NaN            NaN   194670        2        3   \n",
       "top               NaN            NaN  1776526  Matched    Block   \n",
       "freq              NaN            NaN        2   189786   126926   \n",
       "mean    141091.456350  141298.811381      NaN      NaN      NaN   \n",
       "std      86634.402737   86986.542110      NaN      NaN      NaN   \n",
       "min       1001.000000    1001.000000      NaN      NaN      NaN   \n",
       "25%      70383.000000   70383.000000      NaN      NaN      NaN   \n",
       "50%     123363.000000  123363.000000      NaN      NaN      NaN   \n",
       "75%     203319.000000  203459.000000      NaN      NaN      NaN   \n",
       "max     331454.000000  332954.000000      NaN      NaN      NaN   \n",
       "\n",
       "               INTKEY  ... ROADCOND LIGHTCOND PEDROWNOTGRNT SDOTCOLNUM  \\\n",
       "count    65070.000000  ...   189661    189503          4667     114936   \n",
       "unique            NaN  ...        9         9             1     114932   \n",
       "top               NaN  ...      Dry  Daylight             Y    4116048   \n",
       "freq              NaN  ...   124510    116137          4667          2   \n",
       "mean     37558.450576  ...      NaN       NaN           NaN        NaN   \n",
       "std      51745.990273  ...      NaN       NaN           NaN        NaN   \n",
       "min      23807.000000  ...      NaN       NaN           NaN        NaN   \n",
       "25%      28667.000000  ...      NaN       NaN           NaN        NaN   \n",
       "50%      29973.000000  ...      NaN       NaN           NaN        NaN   \n",
       "75%      33973.000000  ...      NaN       NaN           NaN        NaN   \n",
       "max     757580.000000  ...      NaN       NaN           NaN        NaN   \n",
       "\n",
       "       SPEEDING ST_COLCODE              ST_COLDESC     SEGLANEKEY  \\\n",
       "count      9333     194655                  189769  194673.000000   \n",
       "unique        1         63                      62            NaN   \n",
       "top           Y         32  One parked--one moving            NaN   \n",
       "freq       9333      44421                   44421            NaN   \n",
       "mean        NaN        NaN                     NaN     269.401114   \n",
       "std         NaN        NaN                     NaN    3315.776055   \n",
       "min         NaN        NaN                     NaN       0.000000   \n",
       "25%         NaN        NaN                     NaN       0.000000   \n",
       "50%         NaN        NaN                     NaN       0.000000   \n",
       "75%         NaN        NaN                     NaN       0.000000   \n",
       "max         NaN        NaN                     NaN  525241.000000   \n",
       "\n",
       "        CROSSWALKKEY  HITPARKEDCAR  \n",
       "count   1.946730e+05        194673  \n",
       "unique           NaN             2  \n",
       "top              NaN             N  \n",
       "freq             NaN        187457  \n",
       "mean    9.782452e+03           NaN  \n",
       "std     7.226926e+04           NaN  \n",
       "min     0.000000e+00           NaN  \n",
       "25%     0.000000e+00           NaN  \n",
       "50%     0.000000e+00           NaN  \n",
       "75%     0.000000e+00           NaN  \n",
       "max     5.239700e+06           NaN  \n",
       "\n",
       "[11 rows x 38 columns]"
      ]
     },
     "execution_count": 6,
     "metadata": {},
     "output_type": "execute_result"
    }
   ],
   "source": [
    "df.describe(include=\"all\")"
   ]
  },
  {
   "cell_type": "markdown",
   "metadata": {},
   "source": [
    "## Data Preparation <a class=\"anchor\" id=\"3\"></a>\n",
    "\n",
    "The data preparation includes all the required activities to construct the final dataset which will be fed into the modeling tools. Data preparation can be performed multiple times and it includes balancing the labeled data, transformation, filling missing data, and cleaning the dataset."
   ]
  },
  {
   "cell_type": "markdown",
   "metadata": {},
   "source": [
    "### Sample the data <a class=\"anchor\" id=\"3.1\"></a>\n",
    "by reducing rows labeled as 1"
   ]
  },
  {
   "cell_type": "code",
   "execution_count": 90,
   "metadata": {},
   "outputs": [
    {
     "data": {
      "text/plain": [
       "1    136485\n",
       "2     58188\n",
       "Name: SEVERITYCODE, dtype: int64"
      ]
     },
     "execution_count": 90,
     "metadata": {},
     "output_type": "execute_result"
    }
   ],
   "source": [
    "df[\"SEVERITYCODE\"].value_counts()"
   ]
  },
  {
   "cell_type": "code",
   "execution_count": 91,
   "metadata": {},
   "outputs": [
    {
     "data": {
      "text/plain": [
       "1    70.109877\n",
       "2    29.890123\n",
       "Name: SEVERITYCODE, dtype: float64"
      ]
     },
     "execution_count": 91,
     "metadata": {},
     "output_type": "execute_result"
    }
   ],
   "source": [
    "df[\"SEVERITYCODE\"].value_counts(normalize=True) * 100"
   ]
  },
  {
   "cell_type": "markdown",
   "metadata": {},
   "source": [
    "Again, this dataset is unbalanced. There are 136,485 rows labeled as Severity = 1 (\"property damage\") and 58,188 rows labeled as Severity = 2 (\"injury\"). Levels 1 and 2 repersent categorical information but level 2 (\"injury\") is in fact more severe than level 1 (\"property damage\")."
   ]
  },
  {
   "cell_type": "code",
   "execution_count": 8,
   "metadata": {},
   "outputs": [
    {
     "data": {
      "image/png": "[encoded data removed]",
      "text/plain": [
       "<Figure size 576x288 with 1 Axes>"
      ]
     },
     "metadata": {
      "needs_background": "light"
     },
     "output_type": "display_data"
    }
   ],
   "source": [
    "ax = sns.countplot(x = df['SEVERITYCODE'] ,palette=\"Set2\")\n",
    "sns.set(font_scale=1)\n",
    "ax.set_xlabel(' ')\n",
    "ax.set_ylabel(' ')\n",
    "fig = plt.gcf()\n",
    "fig.set_size_inches(8,4)\n",
    "for p in ax.patches:\n",
    "    ax.annotate('{:.2f}%'.format(100*p.get_height()/len(df['SEVERITYCODE'])), (p.get_x()+ 0.3, p.get_height()+1000))\n",
    "\n",
    "plt.title('Distribution of 200K Collissions',)\n",
    "plt.xlabel('Accident Severity')\n",
    "plt.ylabel('Frequency [%]')\n",
    "plt.xticks(np.arange(2), ['1= Property Damage', '2 = Injury'])\n",
    "plt.show()"
   ]
  },
  {
   "cell_type": "markdown",
   "metadata": {},
   "source": [
    "In order to achieve a balanced data set, downsample the majority class so that the entire data set will be equally distributed among the two labels"
   ]
  },
  {
   "cell_type": "code",
   "execution_count": 187,
   "metadata": {},
   "outputs": [
    {
     "name": "stdout",
     "output_type": "stream",
     "text": [
      "(116376, 38)\n"
     ]
    }
   ],
   "source": [
    "# Separate majority and minority classes\n",
    "df_majority = df[df.SEVERITYCODE == '1']\n",
    "df_minority = df[df.SEVERITYCODE == '2']\n",
    "\n",
    "\n",
    "# Downsample majority class\n",
    "df_majority_downsampled = resample(df_majority, \n",
    "                                 replace=False,    # sample without replacement\n",
    "                                 n_samples=58188,     # to match minority class\n",
    "                                 random_state=123)\n",
    "\n",
    "# Combine minority class with downsampled majority class\n",
    "balanced_df = pd.concat([df_majority_downsampled, df_minority])\n",
    "df2 = balanced_df\n",
    "print(df2.shape)"
   ]
  },
  {
   "cell_type": "code",
   "execution_count": 188,
   "metadata": {},
   "outputs": [
    {
     "data": {
      "text/plain": [
       "2    58188\n",
       "1    58188\n",
       "Name: SEVERITYCODE, dtype: int64"
      ]
     },
     "execution_count": 188,
     "metadata": {},
     "output_type": "execute_result"
    }
   ],
   "source": [
    "# Display new class counts\n",
    "df2['SEVERITYCODE'] = df2['SEVERITYCODE'].astype(int) #covert object to ints\n",
    "df2[\"SEVERITYCODE\"].value_counts()"
   ]
  },
  {
   "cell_type": "markdown",
   "metadata": {},
   "source": [
    "Show the updated balance."
   ]
  },
  {
   "cell_type": "code",
   "execution_count": 189,
   "metadata": {},
   "outputs": [
    {
     "data": {
      "image/png": "[encoded data removed]",
      "text/plain": [
       "<Figure size 576x288 with 1 Axes>"
      ]
     },
     "metadata": {},
     "output_type": "display_data"
    }
   ],
   "source": [
    "ax = sns.countplot(x = df2['SEVERITYCODE'] ,palette=\"Set2\")\n",
    "sns.set(font_scale=1)\n",
    "ax.set_xlabel(' ')\n",
    "ax.set_ylabel(' ')\n",
    "fig = plt.gcf()\n",
    "fig.set_size_inches(8,4)\n",
    "for p in ax.patches:\n",
    "    ax.annotate('{:.2f}%'.format(100*p.get_height()/len(df2['SEVERITYCODE'])), (p.get_x()+ 0.3, p.get_height()+250))\n",
    "\n",
    "plt.title('Distribution of ~60K Collissions',)\n",
    "plt.xlabel('Accident Severity')\n",
    "plt.ylabel('Frequency [%]')\n",
    "plt.xticks(np.arange(2), ['1= Property Damage', '2 = Injury'])\n",
    "plt.show()"
   ]
  },
  {
   "cell_type": "markdown",
   "metadata": {},
   "source": [
    "Plot the car collisions by location, mark by severity code to see if there's a pattern."
   ]
  },
  {
   "cell_type": "code",
   "execution_count": 190,
   "metadata": {},
   "outputs": [
    {
     "data": {
      "image/png": "[encoded data removed]",
      "text/plain": [
       "<Figure size 432x288 with 1 Axes>"
      ]
     },
     "metadata": {},
     "output_type": "display_data"
    }
   ],
   "source": [
    "# Map of accidents, color code by SEVERITY level\n",
    "sns.scatterplot(x='X', y='Y', data=df, hue='SEVERITYCODE', legend=False, s=20)\n",
    "plt.show()"
   ]
  },
  {
   "cell_type": "markdown",
   "metadata": {},
   "source": [
    "### Rename and drop columns <a class=\"anchor\" id=\"3.2\"></a>\n",
    "\n",
    "Rename for ease of readability, drop unhelpful columns"
   ]
  },
  {
   "cell_type": "code",
   "execution_count": 191,
   "metadata": {},
   "outputs": [
    {
     "data": {
      "text/plain": [
       "Index(['SEVERITYCODE', 'X', 'Y', 'OBJECTID', 'INCKEY', 'COLDETKEY', 'REPORTNO',\n",
       "       'STATUS', 'ADDRTYPE', 'INTKEY', 'LOCATION', 'EXCEPTRSNCODE',\n",
       "       'EXCEPTRSNDESC', 'SEVERITYCODE.1', 'SEVERITYDESC', 'COLLISIONTYPE',\n",
       "       'PERSONCOUNT', 'PEDCOUNT', 'PEDCYLCOUNT', 'VEHCOUNT', 'INCDATE',\n",
       "       'INCDTTM', 'JUNCTIONTYPE', 'SDOT_COLCODE', 'SDOT_COLDESC',\n",
       "       'INATTENTIONIND', 'UNDERINFL', 'WEATHER', 'ROADCOND', 'LIGHTCOND',\n",
       "       'PEDROWNOTGRNT', 'SDOTCOLNUM', 'SPEEDING', 'ST_COLCODE', 'ST_COLDESC',\n",
       "       'SEGLANEKEY', 'CROSSWALKKEY', 'HITPARKEDCAR'],\n",
       "      dtype='object')"
      ]
     },
     "execution_count": 191,
     "metadata": {},
     "output_type": "execute_result"
    }
   ],
   "source": [
    "df.columns"
   ]
  },
  {
   "cell_type": "markdown",
   "metadata": {},
   "source": [
    "List the updated column names."
   ]
  },
  {
   "cell_type": "code",
   "execution_count": 192,
   "metadata": {},
   "outputs": [],
   "source": [
    "df2.columns = ['Severity_Code', 'X', 'Y', 'Object_ID', 'Inc_Key', 'Coldet_Key', 'Report_No',\n",
    "               'Status', 'Addr_Type', 'Int_Key', 'Location', 'Exceptrsn_Code',\n",
    "               'Exceptrsn_Desc', 'Severity_Code.1', 'Severity_Desc', 'Collision_Type',\n",
    "               'Person_Count', 'Ped_Count', 'Ped_Cyl_Count', 'Veh_Count', 'Inc_Date',\n",
    "               'Inc_Dttm', 'Junction_Type', 'SDOT_Col_Code', 'SDOT_Col_Desc',\n",
    "               'Inattention_Ind', 'Under_Infl', 'Weather', 'Road_Cond', 'Light_Cond',\n",
    "               'Ped_ROW_Not_Grnt', 'SDOT_Col_Num', 'Speeding', 'ST_Col_Code', 'ST_Col_Desc',\n",
    "               'Seg_Lane_Key', 'Crosswalk_Key', 'Hit_Parked_Car']\n"
   ]
  },
  {
   "cell_type": "markdown",
   "metadata": {},
   "source": [
    "Drop columns that are unlikely (according to personal intuition) to help towards ML model accuracy, for ease of use"
   ]
  },
  {
   "cell_type": "code",
   "execution_count": 193,
   "metadata": {},
   "outputs": [],
   "source": [
    "df2 = df2.drop('X', axis=1) \n",
    "df2 = df2.drop('Y', axis=1) \n",
    "df2 = df2.drop('Object_ID', axis=1) \n",
    "df2 = df2.drop('Int_Key', axis=1) #values are all under 500\n",
    "df2 = df2.drop('Inc_Key', axis=1)  \n",
    "df2 = df2.drop('Coldet_Key', axis=1)  \n",
    "df2 = df2.drop('Report_No', axis=1)  \n",
    "df2 = df2.drop('Status', axis=1)  #Metadata form doesn't describe what this attribute means. Values are either \"Matched\" or \"Unmatched\" but I don't know what that means\n",
    "df2 = df2.drop('Exceptrsn_Desc', axis=1) #no useful information\n",
    "df2 = df2.drop('Exceptrsn_Code', axis=1) #same information in Exceptrsn_Desc\n",
    "df2 = df2.drop('Severity_Desc', axis=1) #corresponds exactly with Severity label\n",
    "df2 = df2.drop('SDOT_Col_Code', axis=1)\n",
    "df2 = df2.drop('SDOT_Col_Num', axis=1) #not useful information\n",
    "df2 = df2.drop('ST_Col_Desc', axis=1) #corresponds exactly with ST_Col_Code\n",
    "df2 = df2.drop('Seg_Lane_Key', axis=1) #not useful information\n",
    "df2 = df2.drop('Crosswalk_Key', axis=1) #not useful information"
   ]
  },
  {
   "cell_type": "markdown",
   "metadata": {},
   "source": [
    "### Check for missing values  <a class=\"anchor\" id=\"3.3\"></a>"
   ]
  },
  {
   "cell_type": "code",
   "execution_count": 194,
   "metadata": {},
   "outputs": [
    {
     "data": {
      "text/plain": [
       "Addr_Type              922\n",
       "Location              1305\n",
       "Collision_Type        2710\n",
       "Junction_Type         2937\n",
       "Inattention_Ind      97717\n",
       "Under_Infl            2693\n",
       "Weather               2816\n",
       "Road_Cond             2764\n",
       "Light_Cond            2848\n",
       "Ped_ROW_Not_Grnt    111981\n",
       "Speeding            110396\n",
       "ST_Col_Code             15\n",
       "dtype: int64"
      ]
     },
     "execution_count": 194,
     "metadata": {},
     "output_type": "execute_result"
    }
   ],
   "source": [
    "#Missing values for each column\n",
    "null_count = df2.isnull().sum()\n",
    "null_count[null_count>0]#.plot('bar', figsize=(30,10))"
   ]
  },
  {
   "cell_type": "markdown",
   "metadata": {},
   "source": [
    "### Data Exploration and Visualizations <a class=\"anchor\" id=\"3.4\"></a>"
   ]
  },
  {
   "cell_type": "code",
   "execution_count": 195,
   "metadata": {},
   "outputs": [
    {
     "data": {
      "text/html": [
       "<div>\n",
       "<style scoped>\n",
       "    .dataframe tbody tr th:only-of-type {\n",
       "        vertical-align: middle;\n",
       "    }\n",
       "\n",
       "    .dataframe tbody tr th {\n",
       "        vertical-align: top;\n",
       "    }\n",
       "\n",
       "    .dataframe thead th {\n",
       "        text-align: right;\n",
       "    }\n",
       "</style>\n",
       "<table border=\"1\" class=\"dataframe\">\n",
       "  <thead>\n",
       "    <tr style=\"text-align: right;\">\n",
       "      <th></th>\n",
       "      <th>Severity_Code</th>\n",
       "      <th>Person_Count</th>\n",
       "      <th>Ped_Count</th>\n",
       "      <th>Ped_Cyl_Count</th>\n",
       "      <th>Veh_Count</th>\n",
       "    </tr>\n",
       "  </thead>\n",
       "  <tbody>\n",
       "    <tr>\n",
       "      <th>count</th>\n",
       "      <td>116376.000000</td>\n",
       "      <td>116376.000000</td>\n",
       "      <td>116376.000000</td>\n",
       "      <td>116376.000000</td>\n",
       "      <td>116376.000000</td>\n",
       "    </tr>\n",
       "    <tr>\n",
       "      <th>mean</th>\n",
       "      <td>1.500000</td>\n",
       "      <td>2.523854</td>\n",
       "      <td>0.058672</td>\n",
       "      <td>0.043987</td>\n",
       "      <td>1.904929</td>\n",
       "    </tr>\n",
       "    <tr>\n",
       "      <th>std</th>\n",
       "      <td>0.500002</td>\n",
       "      <td>1.419223</td>\n",
       "      <td>0.246886</td>\n",
       "      <td>0.206860</td>\n",
       "      <td>0.665389</td>\n",
       "    </tr>\n",
       "    <tr>\n",
       "      <th>min</th>\n",
       "      <td>1.000000</td>\n",
       "      <td>0.000000</td>\n",
       "      <td>0.000000</td>\n",
       "      <td>0.000000</td>\n",
       "      <td>0.000000</td>\n",
       "    </tr>\n",
       "    <tr>\n",
       "      <th>25%</th>\n",
       "      <td>1.000000</td>\n",
       "      <td>2.000000</td>\n",
       "      <td>0.000000</td>\n",
       "      <td>0.000000</td>\n",
       "      <td>2.000000</td>\n",
       "    </tr>\n",
       "    <tr>\n",
       "      <th>50%</th>\n",
       "      <td>1.500000</td>\n",
       "      <td>2.000000</td>\n",
       "      <td>0.000000</td>\n",
       "      <td>0.000000</td>\n",
       "      <td>2.000000</td>\n",
       "    </tr>\n",
       "    <tr>\n",
       "      <th>75%</th>\n",
       "      <td>2.000000</td>\n",
       "      <td>3.000000</td>\n",
       "      <td>0.000000</td>\n",
       "      <td>0.000000</td>\n",
       "      <td>2.000000</td>\n",
       "    </tr>\n",
       "    <tr>\n",
       "      <th>max</th>\n",
       "      <td>2.000000</td>\n",
       "      <td>81.000000</td>\n",
       "      <td>6.000000</td>\n",
       "      <td>2.000000</td>\n",
       "      <td>11.000000</td>\n",
       "    </tr>\n",
       "  </tbody>\n",
       "</table>\n",
       "</div>"
      ],
      "text/plain": [
       "       Severity_Code   Person_Count      Ped_Count  Ped_Cyl_Count  \\\n",
       "count  116376.000000  116376.000000  116376.000000  116376.000000   \n",
       "mean        1.500000       2.523854       0.058672       0.043987   \n",
       "std         0.500002       1.419223       0.246886       0.206860   \n",
       "min         1.000000       0.000000       0.000000       0.000000   \n",
       "25%         1.000000       2.000000       0.000000       0.000000   \n",
       "50%         1.500000       2.000000       0.000000       0.000000   \n",
       "75%         2.000000       3.000000       0.000000       0.000000   \n",
       "max         2.000000      81.000000       6.000000       2.000000   \n",
       "\n",
       "           Veh_Count  \n",
       "count  116376.000000  \n",
       "mean        1.904929  \n",
       "std         0.665389  \n",
       "min         0.000000  \n",
       "25%         2.000000  \n",
       "50%         2.000000  \n",
       "75%         2.000000  \n",
       "max        11.000000  "
      ]
     },
     "execution_count": 195,
     "metadata": {},
     "output_type": "execute_result"
    }
   ],
   "source": [
    "df2.describe()"
   ]
  },
  {
   "cell_type": "markdown",
   "metadata": {},
   "source": [
    "Let's make Severity_Code \"property damage\" = 0 (instead of 1) and \"injury\" = 1 (instead of 2)"
   ]
  },
  {
   "cell_type": "code",
   "execution_count": 196,
   "metadata": {},
   "outputs": [
    {
     "data": {
      "text/plain": [
       "1    58188\n",
       "0    58188\n",
       "Name: Severity_Code, dtype: int64"
      ]
     },
     "execution_count": 196,
     "metadata": {},
     "output_type": "execute_result"
    }
   ],
   "source": [
    "df2['Severity_Code'].replace(1, 0, inplace=True)\n",
    "df2['Severity_Code'].replace(2, 1, inplace=True)\n",
    "df2['Severity_Code'].value_counts() #no nulls"
   ]
  },
  {
   "cell_type": "markdown",
   "metadata": {},
   "source": [
    "Explore other attributes. Check nulls and value counts. Clean some attributes up."
   ]
  },
  {
   "cell_type": "code",
   "execution_count": 197,
   "metadata": {},
   "outputs": [
    {
     "data": {
      "text/plain": [
       "0    109831\n",
       "1      6545\n",
       "Name: Ped_Inv, dtype: int64"
      ]
     },
     "execution_count": 197,
     "metadata": {},
     "output_type": "execute_result"
    }
   ],
   "source": [
    "df2['Ped_Count'].isna().sum() #0 null\n",
    "df2['Ped_Count'].value_counts() #will need to group somehow\n",
    "df2['Ped_Inv'] = df2['Ped_Count'].apply(lambda x: 1 if (x>=1)  else 0) #group together everything above 1 (including 1)\n",
    "df2 = df2.drop('Ped_Count', axis=1)\n",
    "df2['Ped_Inv'].value_counts()"
   ]
  },
  {
   "cell_type": "code",
   "execution_count": 155,
   "metadata": {},
   "outputs": [
    {
     "data": {
      "text/plain": [
       "0    111300\n",
       "1      5033\n",
       "2        43\n",
       "Name: Ped_Cyl_Count, dtype: int64"
      ]
     },
     "execution_count": 155,
     "metadata": {},
     "output_type": "execute_result"
    }
   ],
   "source": [
    "df2['Ped_Cyl_Count'].isna().sum() #0\n",
    "df2['Ped_Cyl_Count'] = df2['Ped_Cyl_Count'].astype(int) #covert floats to ints\n",
    "df2['Ped_Cyl_Count'].value_counts()"
   ]
  },
  {
   "cell_type": "code",
   "execution_count": 156,
   "metadata": {},
   "outputs": [
    {
     "data": {
      "text/plain": [
       "2    64659\n",
       "3    22848\n",
       "4     9936\n",
       "5     8107\n",
       "1     7487\n",
       "0     3339\n",
       "Name: Person_Count, dtype: int64"
      ]
     },
     "execution_count": 156,
     "metadata": {},
     "output_type": "execute_result"
    }
   ],
   "source": [
    "df2['Person_Count'].isna().sum() #0 null\n",
    "df2['Person_Count'].value_counts() #group together everything above 5\n",
    "df2['Person_Count'].replace([x for x in np.arange(5.0, 82.0)], 5.0, inplace=True)\n",
    "df2['Person_Count'] = df2['Person_Count'].astype(int) #convert floats to ints\n",
    "df2['Person_Count'].value_counts() "
   ]
  },
  {
   "cell_type": "markdown",
   "metadata": {},
   "source": [
    "We can see property more collisions with 1-2 people involve result in property damage, whereas collissions with 3+ people involves result more often in injury. "
   ]
  },
  {
   "cell_type": "code",
   "execution_count": 157,
   "metadata": {},
   "outputs": [
    {
     "data": {
      "image/png": "[encoded data removed]",
      "text/plain": [
       "<Figure size 1008x360 with 1 Axes>"
      ]
     },
     "metadata": {},
     "output_type": "display_data"
    }
   ],
   "source": [
    "plt.figure(figsize=(14,5))\n",
    "acc_slight = df2['Severity_Code'] == 0\n",
    "acc_severe = df2['Severity_Code'] == 1\n",
    "\n",
    "sns.kdeplot(df2['Person_Count'][acc_slight],shade=True,color='Blue', label='Property Damage').set_xlim(-.5,5.5)\n",
    "sns.kdeplot(df2['Person_Count'][acc_severe],shade=True,color='Red', label='Injury').set_xlim(-.5,5.5)\n",
    "\n",
    "plt.title('Number of People Involved Distribution by Accident Severity')\n",
    "plt.xlabel('Number of People Involve')\n",
    "plt.show()"
   ]
  },
  {
   "cell_type": "code",
   "execution_count": 158,
   "metadata": {},
   "outputs": [
    {
     "data": {
      "text/plain": [
       "2    83522\n",
       "1    19068\n",
       "3    10893\n",
       "0     2893\n",
       "Name: Veh_Count, dtype: int64"
      ]
     },
     "execution_count": 158,
     "metadata": {},
     "output_type": "execute_result"
    }
   ],
   "source": [
    "df2['Veh_Count'].isna().sum() #0 null\n",
    "df2['Veh_Count'].value_counts() #group together everything above 3\n",
    "df2['Veh_Count'] = df2['Veh_Count'].apply(lambda x: 3 if (x>=3)  else 2 if x==2 else 1 if x==1 else 0)\n",
    "#df2['Veh_Count'].replace([x for x in np.arange(3.0, 15.0)], 3.0, inplace=True)\n",
    "df2['Veh_Count'] = df2['Veh_Count'].astype(int) #covert floats to ints\n",
    "df2['Veh_Count'].value_counts()"
   ]
  },
  {
   "cell_type": "markdown",
   "metadata": {},
   "source": [
    "Plot the adjusted distribution of vehicles involved in the collision"
   ]
  },
  {
   "cell_type": "code",
   "execution_count": 159,
   "metadata": {},
   "outputs": [
    {
     "name": "stderr",
     "output_type": "stream",
     "text": [
      "/Users/ariella/opt/anaconda3/lib/python3.8/site-packages/seaborn/distributions.py:369: UserWarning: Default bandwidth for data is 0; skipping density estimation.\n",
      "  warnings.warn(msg, UserWarning)\n"
     ]
    },
    {
     "name": "stdout",
     "output_type": "stream",
     "text": [
      "Min: 0 \n",
      "Max: 3 \n",
      "Median: 2.0\n"
     ]
    },
    {
     "data": {
      "image/png": "[encoded data removed]",
      "text/plain": [
       "<Figure size 576x360 with 1 Axes>"
      ]
     },
     "metadata": {},
     "output_type": "display_data"
    }
   ],
   "source": [
    "plt.figure(figsize=(8,5))\n",
    "plt.title(\"Distribution of Vehicle Count, Adjusted\")\n",
    "sns.distplot(df2['Veh_Count']).set_xlim(0,3.5)\n",
    "print('Min:',    df2['Veh_Count'].min(), '\\n'\n",
    "      'Max:',    df2['Veh_Count'].max(), '\\n'\n",
    "      'Median:', df2['Veh_Count'].median())"
   ]
  },
  {
   "cell_type": "code",
   "execution_count": 160,
   "metadata": {},
   "outputs": [],
   "source": [
    "df2 = df2.drop('Severity_Code.1', axis=1)  "
   ]
  },
  {
   "cell_type": "markdown",
   "metadata": {},
   "source": [
    "Create new columns for year, month, day, day of week, time, and hour"
   ]
  },
  {
   "cell_type": "code",
   "execution_count": 161,
   "metadata": {},
   "outputs": [],
   "source": [
    "#df2['Inc_Date'] = pd.to_datetime(df2['Inc_Date']).dt.date #all columns have 00:00:00 for time\n",
    "df2 = df2.drop('Inc_Date', axis=1)  \n",
    "df2['Inc_DT'] = pd.to_datetime(df2['Inc_Dttm'])\n",
    "df2 = df2.drop('Inc_Dttm', axis=1)"
   ]
  },
  {
   "cell_type": "code",
   "execution_count": 162,
   "metadata": {},
   "outputs": [
    {
     "data": {
      "text/html": [
       "<div>\n",
       "<style scoped>\n",
       "    .dataframe tbody tr th:only-of-type {\n",
       "        vertical-align: middle;\n",
       "    }\n",
       "\n",
       "    .dataframe tbody tr th {\n",
       "        vertical-align: top;\n",
       "    }\n",
       "\n",
       "    .dataframe thead th {\n",
       "        text-align: right;\n",
       "    }\n",
       "</style>\n",
       "<table border=\"1\" class=\"dataframe\">\n",
       "  <thead>\n",
       "    <tr style=\"text-align: right;\">\n",
       "      <th></th>\n",
       "      <th>Inc_DT</th>\n",
       "      <th>Inc_DayOfWeek</th>\n",
       "      <th>Inc_Time</th>\n",
       "      <th>Inc_Year</th>\n",
       "      <th>Inc_Month</th>\n",
       "      <th>Inc_Day</th>\n",
       "      <th>Inc_Hour</th>\n",
       "    </tr>\n",
       "  </thead>\n",
       "  <tbody>\n",
       "    <tr>\n",
       "      <th>25055</th>\n",
       "      <td>2005-01-22 20:30:00</td>\n",
       "      <td>5</td>\n",
       "      <td>20:30:00</td>\n",
       "      <td>2005</td>\n",
       "      <td>Jan</td>\n",
       "      <td>22</td>\n",
       "      <td>20</td>\n",
       "    </tr>\n",
       "    <tr>\n",
       "      <th>65280</th>\n",
       "      <td>2008-08-22 10:45:00</td>\n",
       "      <td>4</td>\n",
       "      <td>10:45:00</td>\n",
       "      <td>2008</td>\n",
       "      <td>Aug</td>\n",
       "      <td>22</td>\n",
       "      <td>10</td>\n",
       "    </tr>\n",
       "    <tr>\n",
       "      <th>86292</th>\n",
       "      <td>2010-11-19 07:25:00</td>\n",
       "      <td>4</td>\n",
       "      <td>07:25:00</td>\n",
       "      <td>2010</td>\n",
       "      <td>Nov</td>\n",
       "      <td>19</td>\n",
       "      <td>7</td>\n",
       "    </tr>\n",
       "    <tr>\n",
       "      <th>155111</th>\n",
       "      <td>2016-06-17 09:17:00</td>\n",
       "      <td>4</td>\n",
       "      <td>09:17:00</td>\n",
       "      <td>2016</td>\n",
       "      <td>Jun</td>\n",
       "      <td>17</td>\n",
       "      <td>9</td>\n",
       "    </tr>\n",
       "    <tr>\n",
       "      <th>64598</th>\n",
       "      <td>2008-03-09 00:00:00</td>\n",
       "      <td>6</td>\n",
       "      <td>00:00:00</td>\n",
       "      <td>2008</td>\n",
       "      <td>Mar</td>\n",
       "      <td>9</td>\n",
       "      <td>0</td>\n",
       "    </tr>\n",
       "  </tbody>\n",
       "</table>\n",
       "</div>"
      ],
      "text/plain": [
       "                    Inc_DT  Inc_DayOfWeek  Inc_Time  Inc_Year Inc_Month  \\\n",
       "25055  2005-01-22 20:30:00              5  20:30:00      2005       Jan   \n",
       "65280  2008-08-22 10:45:00              4  10:45:00      2008       Aug   \n",
       "86292  2010-11-19 07:25:00              4  07:25:00      2010       Nov   \n",
       "155111 2016-06-17 09:17:00              4  09:17:00      2016       Jun   \n",
       "64598  2008-03-09 00:00:00              6  00:00:00      2008       Mar   \n",
       "\n",
       "        Inc_Day  Inc_Hour  \n",
       "25055        22        20  \n",
       "65280        22        10  \n",
       "86292        19         7  \n",
       "155111       17         9  \n",
       "64598         9         0  "
      ]
     },
     "execution_count": 162,
     "metadata": {},
     "output_type": "execute_result"
    }
   ],
   "source": [
    "df2['Inc_DayOfWeek'] = df2['Inc_DT'].dt.dayofweek \n",
    "df2['Inc_Time'] = df2['Inc_DT'].dt.time\n",
    "df2['Inc_Year'] = df2['Inc_DT'].dt.year\n",
    "df2['Inc_Month'] = df2['Inc_DT'].dt.strftime('%b')\n",
    "df2['Inc_Day'] = df2['Inc_DT'].dt.day\n",
    "df2['Inc_Hour'] = df2['Inc_DT'].dt.hour\n",
    "df2[['Inc_DT', 'Inc_DayOfWeek', 'Inc_Time', 'Inc_Year', 'Inc_Month', 'Inc_Day','Inc_Hour']].head()"
   ]
  },
  {
   "cell_type": "markdown",
   "metadata": {},
   "source": [
    "Plot the distribution of collisions over time of day"
   ]
  },
  {
   "cell_type": "code",
   "execution_count": 163,
   "metadata": {},
   "outputs": [
    {
     "data": {
      "text/plain": [
       "<matplotlib.axes._subplots.AxesSubplot at 0x122910340>"
      ]
     },
     "execution_count": 163,
     "metadata": {},
     "output_type": "execute_result"
    },
    {
     "data": {
      "image/png": "[encoded data removed]",
      "text/plain": [
       "<Figure size 1008x360 with 1 Axes>"
      ]
     },
     "metadata": {},
     "output_type": "display_data"
    }
   ],
   "source": [
    "time_x = pd.to_datetime(df2['Inc_Time'], format='%H:%M:%S').dt.hour\n",
    "plt.figure(figsize=(14,5))\n",
    "plt.title(\"Distribution of Collisions over the Day, Across All Days\")\n",
    "plt.xlabel(\"Hour\")\n",
    "time_x.value_counts().sort_index().plot(kind='area')"
   ]
  },
  {
   "cell_type": "code",
   "execution_count": 164,
   "metadata": {},
   "outputs": [
    {
     "data": {
      "text/plain": [
       "Block           71321\n",
       "Intersection    43750\n",
       "Alley             383\n",
       "Name: Addr_Type, dtype: int64"
      ]
     },
     "execution_count": 164,
     "metadata": {},
     "output_type": "execute_result"
    }
   ],
   "source": [
    "df2['Addr_Type'].isna().sum() #1926 null\n",
    "df2[\"Addr_Type\"].value_counts() #will probably need to convert this to numeric and normalize/standardize"
   ]
  },
  {
   "cell_type": "code",
   "execution_count": 165,
   "metadata": {},
   "outputs": [
    {
     "data": {
      "text/plain": [
       "BATTERY ST TUNNEL SB BETWEEN AURORA AVE N AND ALASKAN WY VI SB    177\n",
       "AURORA AVE N BETWEEN N 117TH PL AND N 125TH ST                    177\n",
       "6TH AVE AND JAMES ST                                              171\n",
       "N NORTHGATE WAY BETWEEN MERIDIAN AVE N AND CORLISS AVE N          168\n",
       "AURORA AVE N BETWEEN N 130TH ST AND N 135TH ST                    159\n",
       "                                                                 ... \n",
       "LINDEN AVE N AND N 76TH ST                                          1\n",
       "BARTLETT AVE NE BETWEEN DEAD END AND NE 107TH ST                    1\n",
       "30TH AVE SW BETWEEN SW HENDERSON ST AND SW BARTON ST                1\n",
       "10TH AVE E AND E ROY W ST                                           1\n",
       "26TH AVE NE AND NE 115TH ST                                         1\n",
       "Name: Location, Length: 19857, dtype: int64"
      ]
     },
     "execution_count": 165,
     "metadata": {},
     "output_type": "execute_result"
    }
   ],
   "source": [
    "df2['Location'].isna().sum() #2677 null\n",
    "df2['Location'].value_counts() #probably drop this column because the counts are low"
   ]
  },
  {
   "cell_type": "code",
   "execution_count": 166,
   "metadata": {},
   "outputs": [
    {
     "data": {
      "text/plain": [
       "Rear Ended    22904\n",
       "Angles        22558\n",
       "Parked Car    21969\n",
       "Other         13668\n",
       "Sideswipe      9403\n",
       "Left Turn      8937\n",
       "Pedestrian     6229\n",
       "Cycles         5009\n",
       "Right Turn     1608\n",
       "Head On        1381\n",
       "Name: Collision_Type, dtype: int64"
      ]
     },
     "execution_count": 166,
     "metadata": {},
     "output_type": "execute_result"
    }
   ],
   "source": [
    "df2['Collision_Type'].isna().sum() #4902 null\n",
    "df2['Collision_Type'].value_counts() #will probably need to convert this to numeric and normalize/standardize"
   ]
  },
  {
   "cell_type": "code",
   "execution_count": 176,
   "metadata": {},
   "outputs": [
    {
     "data": {
      "image/png": "[encoded data removed]",
      "text/plain": [
       "<Figure size 432x288 with 1 Axes>"
      ]
     },
     "metadata": {},
     "output_type": "display_data"
    }
   ],
   "source": [
    "g = sns.countplot(data=df2,x='Collision_Type',hue='Severity_Code')\n",
    "plt.legend(title='Severity', loc='upper right', labels=['Physical Damage', 'Injury'])\n",
    "g.set_xticklabels(g.get_xticklabels(), rotation=45)\n",
    "plt.show(g)"
   ]
  },
  {
   "cell_type": "code",
   "execution_count": 167,
   "metadata": {},
   "outputs": [
    {
     "data": {
      "text/plain": [
       "Mid-Block (not related to intersection)              49349\n",
       "At Intersection (intersection related)               42397\n",
       "Mid-Block (but intersection related)                 13926\n",
       "Driveway Junction                                     6402\n",
       "At Intersection (but not related to intersection)     1268\n",
       "Ramp Junction                                           94\n",
       "Unknown                                                  3\n",
       "Name: Junction_Type, dtype: int64"
      ]
     },
     "execution_count": 167,
     "metadata": {},
     "output_type": "execute_result"
    }
   ],
   "source": [
    "df2['Junction_Type'].isna().sum() #6329 null\n",
    "df2['Junction_Type'].value_counts() #will probably need to convert this to numeric and normalize/standardize, drop less than 500?"
   ]
  },
  {
   "cell_type": "code",
   "execution_count": 168,
   "metadata": {},
   "outputs": [
    {
     "data": {
      "text/plain": [
       "0    97717\n",
       "1    18659\n",
       "Name: Inattention_Ind, dtype: int64"
      ]
     },
     "execution_count": 168,
     "metadata": {},
     "output_type": "execute_result"
    }
   ],
   "source": [
    "df2['Inattention_Ind'].value_counts() #fill blanks with no\n",
    "df2['Inattention_Ind'].fillna(\"N\", inplace=True)\n",
    "df2['Inattention_Ind'].replace('N', 0, inplace=True)\n",
    "df2['Inattention_Ind'].replace('Y', 1, inplace=True)\n",
    "df2['Inattention_Ind'].value_counts() # normalize/standardize?"
   ]
  },
  {
   "cell_type": "code",
   "execution_count": 169,
   "metadata": {},
   "outputs": [
    {
     "data": {
      "text/plain": [
       "0    110388\n",
       "1      5988\n",
       "Name: Under_Infl, dtype: int64"
      ]
     },
     "execution_count": 169,
     "metadata": {},
     "output_type": "execute_result"
    }
   ],
   "source": [
    "df2['Under_Infl'].isna().sum() #4884 null\n",
    "df2['Under_Infl'].value_counts() #replace 0 w and 1 with Yes)\n",
    "df2['Under_Infl'].fillna(0, inplace=True)\n",
    "df2['Under_Infl'].replace(['N','0'], 0, inplace=True)\n",
    "df2['Under_Infl'].replace(['Y','1'], 1, inplace=True)\n",
    "df2['Under_Infl'].value_counts()"
   ]
  },
  {
   "cell_type": "code",
   "execution_count": 170,
   "metadata": {},
   "outputs": [
    {
     "data": {
      "text/plain": [
       "Clear                       67946\n",
       "Raining                     20584\n",
       "Overcast                    16834\n",
       "Unknown                      6851\n",
       "Snowing                       474\n",
       "Other                         406\n",
       "Fog/Smog/Smoke                355\n",
       "Sleet/Hail/Freezing Rain       63\n",
       "Blowing Sand/Dirt              30\n",
       "Severe Crosswind               13\n",
       "Partly Cloudy                   4\n",
       "Name: Weather, dtype: int64"
      ]
     },
     "execution_count": 170,
     "metadata": {},
     "output_type": "execute_result"
    }
   ],
   "source": [
    "df2['Weather'].isna().sum() #5081 null\n",
    "df2['Weather'].value_counts() #will i need to group this or just drop everything with fewer than 500?"
   ]
  },
  {
   "cell_type": "code",
   "execution_count": 171,
   "metadata": {},
   "outputs": [
    {
     "data": {
      "text/plain": [
       "Dry               76000\n",
       "Wet               29374\n",
       "Unknown            6806\n",
       "Ice                 678\n",
       "Snow/Slush          528\n",
       "Other                83\n",
       "Standing Water       57\n",
       "Sand/Mud/Dirt        47\n",
       "Oil                  39\n",
       "Name: Road_Cond, dtype: int64"
      ]
     },
     "execution_count": 171,
     "metadata": {},
     "output_type": "execute_result"
    }
   ],
   "source": [
    "df2['Road_Cond'].isna().sum() #5012 null\n",
    "df2['Road_Cond'].value_counts() #will i need to group this or just drop everything with fewer than 500?"
   ]
  },
  {
   "cell_type": "code",
   "execution_count": 172,
   "metadata": {},
   "outputs": [
    {
     "data": {
      "text/plain": [
       "Light_Cond                Severity_Code\n",
       "Dark - No Street Lights   0                0.614319\n",
       "                          1                0.385681\n",
       "Dark - Street Lights Off  0                0.550498\n",
       "                          1                0.449502\n",
       "Dark - Street Lights On   0                0.503141\n",
       "                          1                0.496859\n",
       "Dark - Unknown Lighting   1                0.571429\n",
       "                          0                0.428571\n",
       "Dawn                      1                0.536808\n",
       "                          0                0.463192\n",
       "Daylight                  1                0.539054\n",
       "                          0                0.460946\n",
       "Dusk                      1                0.541203\n",
       "                          0                0.458797\n",
       "Other                     0                0.590551\n",
       "                          1                0.409449\n",
       "Unknown                   0                0.900198\n",
       "                          1                0.099802\n",
       "Name: Severity_Code, dtype: float64"
      ]
     },
     "execution_count": 172,
     "metadata": {},
     "output_type": "execute_result"
    }
   ],
   "source": [
    "df2.groupby(['Light_Cond'])['Severity_Code'].value_counts(normalize=True)"
   ]
  },
  {
   "cell_type": "code",
   "execution_count": 38,
   "metadata": {},
   "outputs": [
    {
     "data": {
      "text/plain": [
       "Daylight    71503\n",
       "Dark        30709\n",
       "Unknown      6062\n",
       "Dusk         3592\n",
       "Dawn         1535\n",
       "Other         127\n",
       "Name: Light_Cond, dtype: int64"
      ]
     },
     "execution_count": 38,
     "metadata": {},
     "output_type": "execute_result"
    }
   ],
   "source": [
    "df2['Light_Cond'].isna().sum() #5170 null\n",
    "df2['Light_Cond'].replace(['Dark - Street Lights On', 'Dark - No Street Lights', \n",
    "                           'Dark - Street Lights Off', 'Dark - Unknown Lighting'], \"Dark\", inplace=True)\n",
    "df2['Light_Cond'].value_counts() #drop everything with fewer than 500?"
   ]
  },
  {
   "cell_type": "code",
   "execution_count": 39,
   "metadata": {},
   "outputs": [
    {
     "data": {
      "text/plain": [
       "0    111981\n",
       "1      4395\n",
       "Name: Ped_ROW_Not_Grnt, dtype: int64"
      ]
     },
     "execution_count": 39,
     "metadata": {},
     "output_type": "execute_result"
    }
   ],
   "source": [
    "df2['Ped_ROW_Not_Grnt'].value_counts()\n",
    "df2['Ped_ROW_Not_Grnt'].fillna(\"N\", inplace=True)\n",
    "df2['Ped_ROW_Not_Grnt'].replace(['N'], 0, inplace=True)\n",
    "df2['Ped_ROW_Not_Grnt'].replace(['Y'], 1, inplace=True)\n",
    "df2['Ped_ROW_Not_Grnt'].value_counts() # normalize/standardize?"
   ]
  },
  {
   "cell_type": "code",
   "execution_count": 40,
   "metadata": {},
   "outputs": [
    {
     "data": {
      "text/plain": [
       "0    110396\n",
       "1      5980\n",
       "Name: Speeding, dtype: int64"
      ]
     },
     "execution_count": 40,
     "metadata": {},
     "output_type": "execute_result"
    }
   ],
   "source": [
    "df2['Speeding'].value_counts()\n",
    "df2['Speeding'].fillna(\"N\", inplace=True)\n",
    "df2['Speeding'].replace(['N'], 0, inplace=True)\n",
    "df2['Speeding'].replace(['Y'], 1, inplace=True)\n",
    "df2['Speeding'].value_counts() # normalize/standardize?"
   ]
  },
  {
   "cell_type": "code",
   "execution_count": 41,
   "metadata": {},
   "outputs": [
    {
     "data": {
      "text/plain": [
       "10    22558\n",
       "32    20161\n",
       "14    17452\n",
       "50     7680\n",
       "28     7044\n",
       "      ...  \n",
       "18        3\n",
       "87        2\n",
       "49        1\n",
       "43        1\n",
       "85        1\n",
       "Name: ST_Col_Code, Length: 62, dtype: int64"
      ]
     },
     "execution_count": 41,
     "metadata": {},
     "output_type": "execute_result"
    }
   ],
   "source": [
    "df2['ST_Col_Code'].isna().sum() #18 null\n",
    "df2['ST_Col_Code'].value_counts() #description in df['ST_COLDESC'] #drop fewer than 500? normalize?"
   ]
  },
  {
   "cell_type": "code",
   "execution_count": 42,
   "metadata": {},
   "outputs": [
    {
     "data": {
      "text/plain": [
       "0    112968\n",
       "1      3408\n",
       "Name: Hit_Parked_Car, dtype: int64"
      ]
     },
     "execution_count": 42,
     "metadata": {},
     "output_type": "execute_result"
    }
   ],
   "source": [
    "df2['Hit_Parked_Car'].isna().sum() #0 null\n",
    "df2['Hit_Parked_Car'].replace(['N'], 0, inplace=True)\n",
    "df2['Hit_Parked_Car'].replace(['Y'], 1, inplace=True)\n",
    "df2['Hit_Parked_Car'].value_counts() # normalize/standardize?"
   ]
  },
  {
   "cell_type": "code",
   "execution_count": 43,
   "metadata": {},
   "outputs": [
    {
     "data": {
      "image/png": "[encoded data removed]",
      "text/plain": [
       "<Figure size 432x288 with 16 Axes>"
      ]
     },
     "metadata": {},
     "output_type": "display_data"
    }
   ],
   "source": [
    "df2.hist()\n",
    "plt.show()"
   ]
  },
  {
   "cell_type": "code",
   "execution_count": 44,
   "metadata": {},
   "outputs": [
    {
     "data": {
      "text/plain": [
       "(116376, 26)"
      ]
     },
     "execution_count": 44,
     "metadata": {},
     "output_type": "execute_result"
    }
   ],
   "source": [
    "df2.shape"
   ]
  },
  {
   "cell_type": "code",
   "execution_count": 45,
   "metadata": {},
   "outputs": [
    {
     "data": {
      "text/html": [
       "<div>\n",
       "<style scoped>\n",
       "    .dataframe tbody tr th:only-of-type {\n",
       "        vertical-align: middle;\n",
       "    }\n",
       "\n",
       "    .dataframe tbody tr th {\n",
       "        vertical-align: top;\n",
       "    }\n",
       "\n",
       "    .dataframe thead th {\n",
       "        text-align: right;\n",
       "    }\n",
       "</style>\n",
       "<table border=\"1\" class=\"dataframe\">\n",
       "  <thead>\n",
       "    <tr style=\"text-align: right;\">\n",
       "      <th></th>\n",
       "      <th>Severity_Code</th>\n",
       "      <th>Addr_Type</th>\n",
       "      <th>Location</th>\n",
       "      <th>Collision_Type</th>\n",
       "      <th>Person_Count</th>\n",
       "      <th>Ped_Cyl_Count</th>\n",
       "      <th>Veh_Count</th>\n",
       "      <th>Junction_Type</th>\n",
       "      <th>SDOT_Col_Desc</th>\n",
       "      <th>Inattention_Ind</th>\n",
       "      <th>...</th>\n",
       "      <th>ST_Col_Code</th>\n",
       "      <th>Hit_Parked_Car</th>\n",
       "      <th>Ped_Inv</th>\n",
       "      <th>Inc_DT</th>\n",
       "      <th>Inc_DayOfWeek</th>\n",
       "      <th>Inc_Time</th>\n",
       "      <th>Inc_Year</th>\n",
       "      <th>Inc_Month</th>\n",
       "      <th>Inc_Day</th>\n",
       "      <th>Inc_Hour</th>\n",
       "    </tr>\n",
       "  </thead>\n",
       "  <tbody>\n",
       "    <tr>\n",
       "      <th>count</th>\n",
       "      <td>116376.000000</td>\n",
       "      <td>115454</td>\n",
       "      <td>115071</td>\n",
       "      <td>113666</td>\n",
       "      <td>116376.000000</td>\n",
       "      <td>116376.000000</td>\n",
       "      <td>116376.000000</td>\n",
       "      <td>113439</td>\n",
       "      <td>116376</td>\n",
       "      <td>116376.000000</td>\n",
       "      <td>...</td>\n",
       "      <td>116361</td>\n",
       "      <td>116376.000000</td>\n",
       "      <td>116376.000000</td>\n",
       "      <td>116376</td>\n",
       "      <td>116376.000000</td>\n",
       "      <td>116376</td>\n",
       "      <td>116376.000000</td>\n",
       "      <td>116376</td>\n",
       "      <td>116376.000000</td>\n",
       "      <td>116376.000000</td>\n",
       "    </tr>\n",
       "    <tr>\n",
       "      <th>unique</th>\n",
       "      <td>NaN</td>\n",
       "      <td>3</td>\n",
       "      <td>19857</td>\n",
       "      <td>10</td>\n",
       "      <td>NaN</td>\n",
       "      <td>NaN</td>\n",
       "      <td>NaN</td>\n",
       "      <td>7</td>\n",
       "      <td>39</td>\n",
       "      <td>NaN</td>\n",
       "      <td>...</td>\n",
       "      <td>62</td>\n",
       "      <td>NaN</td>\n",
       "      <td>NaN</td>\n",
       "      <td>99107</td>\n",
       "      <td>NaN</td>\n",
       "      <td>1440</td>\n",
       "      <td>NaN</td>\n",
       "      <td>12</td>\n",
       "      <td>NaN</td>\n",
       "      <td>NaN</td>\n",
       "    </tr>\n",
       "    <tr>\n",
       "      <th>top</th>\n",
       "      <td>NaN</td>\n",
       "      <td>Block</td>\n",
       "      <td>BATTERY ST TUNNEL SB BETWEEN AURORA AVE N AND ...</td>\n",
       "      <td>Rear Ended</td>\n",
       "      <td>NaN</td>\n",
       "      <td>NaN</td>\n",
       "      <td>NaN</td>\n",
       "      <td>Mid-Block (not related to intersection)</td>\n",
       "      <td>MOTOR VEHICLE STRUCK MOTOR VEHICLE, FRONT END ...</td>\n",
       "      <td>NaN</td>\n",
       "      <td>...</td>\n",
       "      <td>10</td>\n",
       "      <td>NaN</td>\n",
       "      <td>NaN</td>\n",
       "      <td>2006-11-02 00:00:00</td>\n",
       "      <td>NaN</td>\n",
       "      <td>00:00:00</td>\n",
       "      <td>NaN</td>\n",
       "      <td>Oct</td>\n",
       "      <td>NaN</td>\n",
       "      <td>NaN</td>\n",
       "    </tr>\n",
       "    <tr>\n",
       "      <th>freq</th>\n",
       "      <td>NaN</td>\n",
       "      <td>71321</td>\n",
       "      <td>177</td>\n",
       "      <td>22904</td>\n",
       "      <td>NaN</td>\n",
       "      <td>NaN</td>\n",
       "      <td>NaN</td>\n",
       "      <td>49349</td>\n",
       "      <td>50321</td>\n",
       "      <td>NaN</td>\n",
       "      <td>...</td>\n",
       "      <td>22558</td>\n",
       "      <td>NaN</td>\n",
       "      <td>NaN</td>\n",
       "      <td>66</td>\n",
       "      <td>NaN</td>\n",
       "      <td>17944</td>\n",
       "      <td>NaN</td>\n",
       "      <td>10729</td>\n",
       "      <td>NaN</td>\n",
       "      <td>NaN</td>\n",
       "    </tr>\n",
       "    <tr>\n",
       "      <th>first</th>\n",
       "      <td>NaN</td>\n",
       "      <td>NaN</td>\n",
       "      <td>NaN</td>\n",
       "      <td>NaN</td>\n",
       "      <td>NaN</td>\n",
       "      <td>NaN</td>\n",
       "      <td>NaN</td>\n",
       "      <td>NaN</td>\n",
       "      <td>NaN</td>\n",
       "      <td>NaN</td>\n",
       "      <td>...</td>\n",
       "      <td>NaN</td>\n",
       "      <td>NaN</td>\n",
       "      <td>NaN</td>\n",
       "      <td>2004-01-01 00:00:00</td>\n",
       "      <td>NaN</td>\n",
       "      <td>NaN</td>\n",
       "      <td>NaN</td>\n",
       "      <td>NaN</td>\n",
       "      <td>NaN</td>\n",
       "      <td>NaN</td>\n",
       "    </tr>\n",
       "    <tr>\n",
       "      <th>last</th>\n",
       "      <td>NaN</td>\n",
       "      <td>NaN</td>\n",
       "      <td>NaN</td>\n",
       "      <td>NaN</td>\n",
       "      <td>NaN</td>\n",
       "      <td>NaN</td>\n",
       "      <td>NaN</td>\n",
       "      <td>NaN</td>\n",
       "      <td>NaN</td>\n",
       "      <td>NaN</td>\n",
       "      <td>...</td>\n",
       "      <td>NaN</td>\n",
       "      <td>NaN</td>\n",
       "      <td>NaN</td>\n",
       "      <td>2020-05-20 00:00:00</td>\n",
       "      <td>NaN</td>\n",
       "      <td>NaN</td>\n",
       "      <td>NaN</td>\n",
       "      <td>NaN</td>\n",
       "      <td>NaN</td>\n",
       "      <td>NaN</td>\n",
       "    </tr>\n",
       "    <tr>\n",
       "      <th>mean</th>\n",
       "      <td>0.500000</td>\n",
       "      <td>NaN</td>\n",
       "      <td>NaN</td>\n",
       "      <td>NaN</td>\n",
       "      <td>2.454355</td>\n",
       "      <td>0.043987</td>\n",
       "      <td>1.880035</td>\n",
       "      <td>NaN</td>\n",
       "      <td>NaN</td>\n",
       "      <td>0.160334</td>\n",
       "      <td>...</td>\n",
       "      <td>NaN</td>\n",
       "      <td>0.029284</td>\n",
       "      <td>0.056240</td>\n",
       "      <td>NaN</td>\n",
       "      <td>2.920542</td>\n",
       "      <td>NaN</td>\n",
       "      <td>2011.180209</td>\n",
       "      <td>NaN</td>\n",
       "      <td>15.586865</td>\n",
       "      <td>11.258369</td>\n",
       "    </tr>\n",
       "    <tr>\n",
       "      <th>std</th>\n",
       "      <td>0.500002</td>\n",
       "      <td>NaN</td>\n",
       "      <td>NaN</td>\n",
       "      <td>NaN</td>\n",
       "      <td>1.066524</td>\n",
       "      <td>0.206860</td>\n",
       "      <td>0.585233</td>\n",
       "      <td>NaN</td>\n",
       "      <td>NaN</td>\n",
       "      <td>0.366917</td>\n",
       "      <td>...</td>\n",
       "      <td>NaN</td>\n",
       "      <td>0.168603</td>\n",
       "      <td>0.230386</td>\n",
       "      <td>NaN</td>\n",
       "      <td>1.917800</td>\n",
       "      <td>NaN</td>\n",
       "      <td>4.697236</td>\n",
       "      <td>NaN</td>\n",
       "      <td>8.793692</td>\n",
       "      <td>7.027652</td>\n",
       "    </tr>\n",
       "    <tr>\n",
       "      <th>min</th>\n",
       "      <td>0.000000</td>\n",
       "      <td>NaN</td>\n",
       "      <td>NaN</td>\n",
       "      <td>NaN</td>\n",
       "      <td>0.000000</td>\n",
       "      <td>0.000000</td>\n",
       "      <td>0.000000</td>\n",
       "      <td>NaN</td>\n",
       "      <td>NaN</td>\n",
       "      <td>0.000000</td>\n",
       "      <td>...</td>\n",
       "      <td>NaN</td>\n",
       "      <td>0.000000</td>\n",
       "      <td>0.000000</td>\n",
       "      <td>NaN</td>\n",
       "      <td>0.000000</td>\n",
       "      <td>NaN</td>\n",
       "      <td>2004.000000</td>\n",
       "      <td>NaN</td>\n",
       "      <td>1.000000</td>\n",
       "      <td>0.000000</td>\n",
       "    </tr>\n",
       "    <tr>\n",
       "      <th>25%</th>\n",
       "      <td>0.000000</td>\n",
       "      <td>NaN</td>\n",
       "      <td>NaN</td>\n",
       "      <td>NaN</td>\n",
       "      <td>2.000000</td>\n",
       "      <td>0.000000</td>\n",
       "      <td>2.000000</td>\n",
       "      <td>NaN</td>\n",
       "      <td>NaN</td>\n",
       "      <td>0.000000</td>\n",
       "      <td>...</td>\n",
       "      <td>NaN</td>\n",
       "      <td>0.000000</td>\n",
       "      <td>0.000000</td>\n",
       "      <td>NaN</td>\n",
       "      <td>1.000000</td>\n",
       "      <td>NaN</td>\n",
       "      <td>2007.000000</td>\n",
       "      <td>NaN</td>\n",
       "      <td>8.000000</td>\n",
       "      <td>7.000000</td>\n",
       "    </tr>\n",
       "    <tr>\n",
       "      <th>50%</th>\n",
       "      <td>0.500000</td>\n",
       "      <td>NaN</td>\n",
       "      <td>NaN</td>\n",
       "      <td>NaN</td>\n",
       "      <td>2.000000</td>\n",
       "      <td>0.000000</td>\n",
       "      <td>2.000000</td>\n",
       "      <td>NaN</td>\n",
       "      <td>NaN</td>\n",
       "      <td>0.000000</td>\n",
       "      <td>...</td>\n",
       "      <td>NaN</td>\n",
       "      <td>0.000000</td>\n",
       "      <td>0.000000</td>\n",
       "      <td>NaN</td>\n",
       "      <td>3.000000</td>\n",
       "      <td>NaN</td>\n",
       "      <td>2011.000000</td>\n",
       "      <td>NaN</td>\n",
       "      <td>15.000000</td>\n",
       "      <td>13.000000</td>\n",
       "    </tr>\n",
       "    <tr>\n",
       "      <th>75%</th>\n",
       "      <td>1.000000</td>\n",
       "      <td>NaN</td>\n",
       "      <td>NaN</td>\n",
       "      <td>NaN</td>\n",
       "      <td>3.000000</td>\n",
       "      <td>0.000000</td>\n",
       "      <td>2.000000</td>\n",
       "      <td>NaN</td>\n",
       "      <td>NaN</td>\n",
       "      <td>0.000000</td>\n",
       "      <td>...</td>\n",
       "      <td>NaN</td>\n",
       "      <td>0.000000</td>\n",
       "      <td>0.000000</td>\n",
       "      <td>NaN</td>\n",
       "      <td>4.000000</td>\n",
       "      <td>NaN</td>\n",
       "      <td>2015.000000</td>\n",
       "      <td>NaN</td>\n",
       "      <td>23.000000</td>\n",
       "      <td>17.000000</td>\n",
       "    </tr>\n",
       "    <tr>\n",
       "      <th>max</th>\n",
       "      <td>1.000000</td>\n",
       "      <td>NaN</td>\n",
       "      <td>NaN</td>\n",
       "      <td>NaN</td>\n",
       "      <td>5.000000</td>\n",
       "      <td>2.000000</td>\n",
       "      <td>3.000000</td>\n",
       "      <td>NaN</td>\n",
       "      <td>NaN</td>\n",
       "      <td>1.000000</td>\n",
       "      <td>...</td>\n",
       "      <td>NaN</td>\n",
       "      <td>1.000000</td>\n",
       "      <td>1.000000</td>\n",
       "      <td>NaN</td>\n",
       "      <td>6.000000</td>\n",
       "      <td>NaN</td>\n",
       "      <td>2020.000000</td>\n",
       "      <td>NaN</td>\n",
       "      <td>31.000000</td>\n",
       "      <td>23.000000</td>\n",
       "    </tr>\n",
       "  </tbody>\n",
       "</table>\n",
       "<p>13 rows × 26 columns</p>\n",
       "</div>"
      ],
      "text/plain": [
       "        Severity_Code Addr_Type  \\\n",
       "count   116376.000000    115454   \n",
       "unique            NaN         3   \n",
       "top               NaN     Block   \n",
       "freq              NaN     71321   \n",
       "first             NaN       NaN   \n",
       "last              NaN       NaN   \n",
       "mean         0.500000       NaN   \n",
       "std          0.500002       NaN   \n",
       "min          0.000000       NaN   \n",
       "25%          0.000000       NaN   \n",
       "50%          0.500000       NaN   \n",
       "75%          1.000000       NaN   \n",
       "max          1.000000       NaN   \n",
       "\n",
       "                                                 Location Collision_Type  \\\n",
       "count                                              115071         113666   \n",
       "unique                                              19857             10   \n",
       "top     BATTERY ST TUNNEL SB BETWEEN AURORA AVE N AND ...     Rear Ended   \n",
       "freq                                                  177          22904   \n",
       "first                                                 NaN            NaN   \n",
       "last                                                  NaN            NaN   \n",
       "mean                                                  NaN            NaN   \n",
       "std                                                   NaN            NaN   \n",
       "min                                                   NaN            NaN   \n",
       "25%                                                   NaN            NaN   \n",
       "50%                                                   NaN            NaN   \n",
       "75%                                                   NaN            NaN   \n",
       "max                                                   NaN            NaN   \n",
       "\n",
       "         Person_Count  Ped_Cyl_Count      Veh_Count  \\\n",
       "count   116376.000000  116376.000000  116376.000000   \n",
       "unique            NaN            NaN            NaN   \n",
       "top               NaN            NaN            NaN   \n",
       "freq              NaN            NaN            NaN   \n",
       "first             NaN            NaN            NaN   \n",
       "last              NaN            NaN            NaN   \n",
       "mean         2.454355       0.043987       1.880035   \n",
       "std          1.066524       0.206860       0.585233   \n",
       "min          0.000000       0.000000       0.000000   \n",
       "25%          2.000000       0.000000       2.000000   \n",
       "50%          2.000000       0.000000       2.000000   \n",
       "75%          3.000000       0.000000       2.000000   \n",
       "max          5.000000       2.000000       3.000000   \n",
       "\n",
       "                                  Junction_Type  \\\n",
       "count                                    113439   \n",
       "unique                                        7   \n",
       "top     Mid-Block (not related to intersection)   \n",
       "freq                                      49349   \n",
       "first                                       NaN   \n",
       "last                                        NaN   \n",
       "mean                                        NaN   \n",
       "std                                         NaN   \n",
       "min                                         NaN   \n",
       "25%                                         NaN   \n",
       "50%                                         NaN   \n",
       "75%                                         NaN   \n",
       "max                                         NaN   \n",
       "\n",
       "                                            SDOT_Col_Desc  Inattention_Ind  \\\n",
       "count                                              116376    116376.000000   \n",
       "unique                                                 39              NaN   \n",
       "top     MOTOR VEHICLE STRUCK MOTOR VEHICLE, FRONT END ...              NaN   \n",
       "freq                                                50321              NaN   \n",
       "first                                                 NaN              NaN   \n",
       "last                                                  NaN              NaN   \n",
       "mean                                                  NaN         0.160334   \n",
       "std                                                   NaN         0.366917   \n",
       "min                                                   NaN         0.000000   \n",
       "25%                                                   NaN         0.000000   \n",
       "50%                                                   NaN         0.000000   \n",
       "75%                                                   NaN         0.000000   \n",
       "max                                                   NaN         1.000000   \n",
       "\n",
       "        ...  ST_Col_Code Hit_Parked_Car        Ped_Inv               Inc_DT  \\\n",
       "count   ...       116361  116376.000000  116376.000000               116376   \n",
       "unique  ...           62            NaN            NaN                99107   \n",
       "top     ...           10            NaN            NaN  2006-11-02 00:00:00   \n",
       "freq    ...        22558            NaN            NaN                   66   \n",
       "first   ...          NaN            NaN            NaN  2004-01-01 00:00:00   \n",
       "last    ...          NaN            NaN            NaN  2020-05-20 00:00:00   \n",
       "mean    ...          NaN       0.029284       0.056240                  NaN   \n",
       "std     ...          NaN       0.168603       0.230386                  NaN   \n",
       "min     ...          NaN       0.000000       0.000000                  NaN   \n",
       "25%     ...          NaN       0.000000       0.000000                  NaN   \n",
       "50%     ...          NaN       0.000000       0.000000                  NaN   \n",
       "75%     ...          NaN       0.000000       0.000000                  NaN   \n",
       "max     ...          NaN       1.000000       1.000000                  NaN   \n",
       "\n",
       "        Inc_DayOfWeek  Inc_Time       Inc_Year  Inc_Month        Inc_Day  \\\n",
       "count   116376.000000    116376  116376.000000     116376  116376.000000   \n",
       "unique            NaN      1440            NaN         12            NaN   \n",
       "top               NaN  00:00:00            NaN        Oct            NaN   \n",
       "freq              NaN     17944            NaN      10729            NaN   \n",
       "first             NaN       NaN            NaN        NaN            NaN   \n",
       "last              NaN       NaN            NaN        NaN            NaN   \n",
       "mean         2.920542       NaN    2011.180209        NaN      15.586865   \n",
       "std          1.917800       NaN       4.697236        NaN       8.793692   \n",
       "min          0.000000       NaN    2004.000000        NaN       1.000000   \n",
       "25%          1.000000       NaN    2007.000000        NaN       8.000000   \n",
       "50%          3.000000       NaN    2011.000000        NaN      15.000000   \n",
       "75%          4.000000       NaN    2015.000000        NaN      23.000000   \n",
       "max          6.000000       NaN    2020.000000        NaN      31.000000   \n",
       "\n",
       "             Inc_Hour  \n",
       "count   116376.000000  \n",
       "unique            NaN  \n",
       "top               NaN  \n",
       "freq              NaN  \n",
       "first             NaN  \n",
       "last              NaN  \n",
       "mean        11.258369  \n",
       "std          7.027652  \n",
       "min          0.000000  \n",
       "25%          7.000000  \n",
       "50%         13.000000  \n",
       "75%         17.000000  \n",
       "max         23.000000  \n",
       "\n",
       "[13 rows x 26 columns]"
      ]
     },
     "execution_count": 45,
     "metadata": {},
     "output_type": "execute_result"
    }
   ],
   "source": [
    "df2.describe(include=\"all\")"
   ]
  },
  {
   "cell_type": "code",
   "execution_count": 46,
   "metadata": {},
   "outputs": [
    {
     "data": {
      "text/html": [
       "<div>\n",
       "<style scoped>\n",
       "    .dataframe tbody tr th:only-of-type {\n",
       "        vertical-align: middle;\n",
       "    }\n",
       "\n",
       "    .dataframe tbody tr th {\n",
       "        vertical-align: top;\n",
       "    }\n",
       "\n",
       "    .dataframe thead th {\n",
       "        text-align: right;\n",
       "    }\n",
       "</style>\n",
       "<table border=\"1\" class=\"dataframe\">\n",
       "  <thead>\n",
       "    <tr style=\"text-align: right;\">\n",
       "      <th></th>\n",
       "      <th>Severity_Code</th>\n",
       "      <th>Addr_Type</th>\n",
       "      <th>Location</th>\n",
       "      <th>Collision_Type</th>\n",
       "      <th>Person_Count</th>\n",
       "      <th>Ped_Cyl_Count</th>\n",
       "      <th>Veh_Count</th>\n",
       "      <th>Junction_Type</th>\n",
       "      <th>SDOT_Col_Desc</th>\n",
       "      <th>Inattention_Ind</th>\n",
       "      <th>...</th>\n",
       "      <th>ST_Col_Code</th>\n",
       "      <th>Hit_Parked_Car</th>\n",
       "      <th>Ped_Inv</th>\n",
       "      <th>Inc_DT</th>\n",
       "      <th>Inc_DayOfWeek</th>\n",
       "      <th>Inc_Time</th>\n",
       "      <th>Inc_Year</th>\n",
       "      <th>Inc_Month</th>\n",
       "      <th>Inc_Day</th>\n",
       "      <th>Inc_Hour</th>\n",
       "    </tr>\n",
       "  </thead>\n",
       "  <tbody>\n",
       "    <tr>\n",
       "      <th>25055</th>\n",
       "      <td>0</td>\n",
       "      <td>Intersection</td>\n",
       "      <td>33RD AVE NE AND NE 125TH ST</td>\n",
       "      <td>Angles</td>\n",
       "      <td>2</td>\n",
       "      <td>0</td>\n",
       "      <td>2</td>\n",
       "      <td>At Intersection (intersection related)</td>\n",
       "      <td>MOTOR VEHICLE STRUCK MOTOR VEHICLE, FRONT END ...</td>\n",
       "      <td>0</td>\n",
       "      <td>...</td>\n",
       "      <td>10</td>\n",
       "      <td>0</td>\n",
       "      <td>0</td>\n",
       "      <td>2005-01-22 20:30:00</td>\n",
       "      <td>5</td>\n",
       "      <td>20:30:00</td>\n",
       "      <td>2005</td>\n",
       "      <td>Jan</td>\n",
       "      <td>22</td>\n",
       "      <td>20</td>\n",
       "    </tr>\n",
       "    <tr>\n",
       "      <th>65280</th>\n",
       "      <td>0</td>\n",
       "      <td>Intersection</td>\n",
       "      <td>8TH AVE AND SPRING ST</td>\n",
       "      <td>Angles</td>\n",
       "      <td>2</td>\n",
       "      <td>0</td>\n",
       "      <td>2</td>\n",
       "      <td>At Intersection (intersection related)</td>\n",
       "      <td>MOTOR VEHICLE STRUCK MOTOR VEHICLE, FRONT END ...</td>\n",
       "      <td>0</td>\n",
       "      <td>...</td>\n",
       "      <td>10</td>\n",
       "      <td>0</td>\n",
       "      <td>0</td>\n",
       "      <td>2008-08-22 10:45:00</td>\n",
       "      <td>4</td>\n",
       "      <td>10:45:00</td>\n",
       "      <td>2008</td>\n",
       "      <td>Aug</td>\n",
       "      <td>22</td>\n",
       "      <td>10</td>\n",
       "    </tr>\n",
       "    <tr>\n",
       "      <th>86292</th>\n",
       "      <td>0</td>\n",
       "      <td>Intersection</td>\n",
       "      <td>LAKE CITY WAY NE AND NE 145TH ST</td>\n",
       "      <td>Angles</td>\n",
       "      <td>2</td>\n",
       "      <td>0</td>\n",
       "      <td>2</td>\n",
       "      <td>At Intersection (intersection related)</td>\n",
       "      <td>MOTOR VEHICLE STRUCK MOTOR VEHICLE, LEFT SIDE ...</td>\n",
       "      <td>0</td>\n",
       "      <td>...</td>\n",
       "      <td>10</td>\n",
       "      <td>0</td>\n",
       "      <td>0</td>\n",
       "      <td>2010-11-19 07:25:00</td>\n",
       "      <td>4</td>\n",
       "      <td>07:25:00</td>\n",
       "      <td>2010</td>\n",
       "      <td>Nov</td>\n",
       "      <td>19</td>\n",
       "      <td>7</td>\n",
       "    </tr>\n",
       "    <tr>\n",
       "      <th>155111</th>\n",
       "      <td>0</td>\n",
       "      <td>Block</td>\n",
       "      <td>ALASKAN WY VI NB BETWEEN SENECA ST OFF RP AND ...</td>\n",
       "      <td>Sideswipe</td>\n",
       "      <td>2</td>\n",
       "      <td>0</td>\n",
       "      <td>2</td>\n",
       "      <td>Mid-Block (not related to intersection)</td>\n",
       "      <td>MOTOR VEHICLE STRUCK MOTOR VEHICLE, FRONT END ...</td>\n",
       "      <td>0</td>\n",
       "      <td>...</td>\n",
       "      <td>11</td>\n",
       "      <td>0</td>\n",
       "      <td>0</td>\n",
       "      <td>2016-06-17 09:17:00</td>\n",
       "      <td>4</td>\n",
       "      <td>09:17:00</td>\n",
       "      <td>2016</td>\n",
       "      <td>Jun</td>\n",
       "      <td>17</td>\n",
       "      <td>9</td>\n",
       "    </tr>\n",
       "    <tr>\n",
       "      <th>64598</th>\n",
       "      <td>0</td>\n",
       "      <td>Block</td>\n",
       "      <td>ROY ST BETWEEN 9TH AVE N AND VALLEY ST</td>\n",
       "      <td>Head On</td>\n",
       "      <td>3</td>\n",
       "      <td>0</td>\n",
       "      <td>2</td>\n",
       "      <td>Mid-Block (not related to intersection)</td>\n",
       "      <td>MOTOR VEHICLE STRUCK MOTOR VEHICLE, FRONT END ...</td>\n",
       "      <td>0</td>\n",
       "      <td>...</td>\n",
       "      <td>30</td>\n",
       "      <td>0</td>\n",
       "      <td>0</td>\n",
       "      <td>2008-03-09 00:00:00</td>\n",
       "      <td>6</td>\n",
       "      <td>00:00:00</td>\n",
       "      <td>2008</td>\n",
       "      <td>Mar</td>\n",
       "      <td>9</td>\n",
       "      <td>0</td>\n",
       "    </tr>\n",
       "  </tbody>\n",
       "</table>\n",
       "<p>5 rows × 26 columns</p>\n",
       "</div>"
      ],
      "text/plain": [
       "        Severity_Code     Addr_Type  \\\n",
       "25055               0  Intersection   \n",
       "65280               0  Intersection   \n",
       "86292               0  Intersection   \n",
       "155111              0         Block   \n",
       "64598               0         Block   \n",
       "\n",
       "                                                 Location Collision_Type  \\\n",
       "25055                         33RD AVE NE AND NE 125TH ST         Angles   \n",
       "65280                               8TH AVE AND SPRING ST         Angles   \n",
       "86292                    LAKE CITY WAY NE AND NE 145TH ST         Angles   \n",
       "155111  ALASKAN WY VI NB BETWEEN SENECA ST OFF RP AND ...      Sideswipe   \n",
       "64598              ROY ST BETWEEN 9TH AVE N AND VALLEY ST        Head On   \n",
       "\n",
       "        Person_Count  Ped_Cyl_Count  Veh_Count  \\\n",
       "25055              2              0          2   \n",
       "65280              2              0          2   \n",
       "86292              2              0          2   \n",
       "155111             2              0          2   \n",
       "64598              3              0          2   \n",
       "\n",
       "                                  Junction_Type  \\\n",
       "25055    At Intersection (intersection related)   \n",
       "65280    At Intersection (intersection related)   \n",
       "86292    At Intersection (intersection related)   \n",
       "155111  Mid-Block (not related to intersection)   \n",
       "64598   Mid-Block (not related to intersection)   \n",
       "\n",
       "                                            SDOT_Col_Desc  Inattention_Ind  \\\n",
       "25055   MOTOR VEHICLE STRUCK MOTOR VEHICLE, FRONT END ...                0   \n",
       "65280   MOTOR VEHICLE STRUCK MOTOR VEHICLE, FRONT END ...                0   \n",
       "86292   MOTOR VEHICLE STRUCK MOTOR VEHICLE, LEFT SIDE ...                0   \n",
       "155111  MOTOR VEHICLE STRUCK MOTOR VEHICLE, FRONT END ...                0   \n",
       "64598   MOTOR VEHICLE STRUCK MOTOR VEHICLE, FRONT END ...                0   \n",
       "\n",
       "        ...  ST_Col_Code Hit_Parked_Car Ped_Inv              Inc_DT  \\\n",
       "25055   ...           10              0       0 2005-01-22 20:30:00   \n",
       "65280   ...           10              0       0 2008-08-22 10:45:00   \n",
       "86292   ...           10              0       0 2010-11-19 07:25:00   \n",
       "155111  ...           11              0       0 2016-06-17 09:17:00   \n",
       "64598   ...           30              0       0 2008-03-09 00:00:00   \n",
       "\n",
       "        Inc_DayOfWeek  Inc_Time Inc_Year  Inc_Month  Inc_Day Inc_Hour  \n",
       "25055               5  20:30:00     2005        Jan       22       20  \n",
       "65280               4  10:45:00     2008        Aug       22       10  \n",
       "86292               4  07:25:00     2010        Nov       19        7  \n",
       "155111              4  09:17:00     2016        Jun       17        9  \n",
       "64598               6  00:00:00     2008        Mar        9        0  \n",
       "\n",
       "[5 rows x 26 columns]"
      ]
     },
     "execution_count": 46,
     "metadata": {},
     "output_type": "execute_result"
    }
   ],
   "source": [
    "df2.head()"
   ]
  },
  {
   "cell_type": "code",
   "execution_count": 47,
   "metadata": {},
   "outputs": [
    {
     "data": {
      "image/png": "[encoded data removed]",
      "text/plain": [
       "<Figure size 864x720 with 2 Axes>"
      ]
     },
     "metadata": {},
     "output_type": "display_data"
    }
   ],
   "source": [
    "plt.figure(figsize=(12,10))\n",
    "cor = df2.corr()\n",
    "sns.heatmap(cor, annot=True, cmap=plt.cm.Reds)\n",
    "plt.show()"
   ]
  },
  {
   "cell_type": "code",
   "execution_count": 48,
   "metadata": {},
   "outputs": [
    {
     "data": {
      "text/plain": [
       "Weather                   Severity_Code\n",
       "Blowing Sand/Dirt         0                0.500000\n",
       "                          1                0.500000\n",
       "Clear                     1                0.527478\n",
       "                          0                0.472522\n",
       "Fog/Smog/Smoke            1                0.526761\n",
       "                          0                0.473239\n",
       "Other                     0                0.714286\n",
       "                          1                0.285714\n",
       "Overcast                  1                0.519484\n",
       "                          0                0.480516\n",
       "Partly Cloudy             1                0.750000\n",
       "                          0                0.250000\n",
       "Raining                   1                0.542946\n",
       "                          0                0.457054\n",
       "Severe Crosswind          1                0.538462\n",
       "                          0                0.461538\n",
       "Sleet/Hail/Freezing Rain  0                0.555556\n",
       "                          1                0.444444\n",
       "Snowing                   0                0.639241\n",
       "                          1                0.360759\n",
       "Unknown                   0                0.880893\n",
       "                          1                0.119107\n",
       "Name: Severity_Code, dtype: float64"
      ]
     },
     "execution_count": 48,
     "metadata": {},
     "output_type": "execute_result"
    }
   ],
   "source": [
    "df2.groupby(['Weather'])['Severity_Code'].value_counts(normalize=True)"
   ]
  },
  {
   "cell_type": "code",
   "execution_count": 49,
   "metadata": {},
   "outputs": [
    {
     "data": {
      "text/plain": [
       "Road_Cond       Severity_Code\n",
       "Dry             1                0.527158\n",
       "                0                0.472842\n",
       "Ice             0                0.597345\n",
       "                1                0.402655\n",
       "Oil             1                0.615385\n",
       "                0                0.384615\n",
       "Other           1                0.518072\n",
       "                0                0.481928\n",
       "Sand/Mud/Dirt   0                0.510638\n",
       "                1                0.489362\n",
       "Snow/Slush      0                0.683712\n",
       "                1                0.316288\n",
       "Standing Water  1                0.526316\n",
       "                0                0.473684\n",
       "Unknown         0                0.889950\n",
       "                1                0.110050\n",
       "Wet             1                0.536359\n",
       "                0                0.463641\n",
       "Name: Severity_Code, dtype: float64"
      ]
     },
     "execution_count": 49,
     "metadata": {},
     "output_type": "execute_result"
    }
   ],
   "source": [
    "df2.groupby(['Road_Cond'])['Severity_Code'].value_counts(normalize=True)"
   ]
  },
  {
   "cell_type": "code",
   "execution_count": 50,
   "metadata": {},
   "outputs": [
    {
     "data": {
      "text/plain": [
       "Light_Cond  Severity_Code\n",
       "Dark        0                0.507343\n",
       "            1                0.492657\n",
       "Dawn        1                0.536808\n",
       "            0                0.463192\n",
       "Daylight    1                0.539054\n",
       "            0                0.460946\n",
       "Dusk        1                0.541203\n",
       "            0                0.458797\n",
       "Other       0                0.590551\n",
       "            1                0.409449\n",
       "Unknown     0                0.900198\n",
       "            1                0.099802\n",
       "Name: Severity_Code, dtype: float64"
      ]
     },
     "execution_count": 50,
     "metadata": {},
     "output_type": "execute_result"
    }
   ],
   "source": [
    "df2.groupby(['Light_Cond'])['Severity_Code'].value_counts(normalize=True)"
   ]
  },
  {
   "cell_type": "code",
   "execution_count": 51,
   "metadata": {},
   "outputs": [
    {
     "name": "stdout",
     "output_type": "stream",
     "text": [
      "Weather\n",
      "False    113560\n",
      "True       2816\n",
      "Name: Weather, dtype: int64\n",
      "\n",
      "Road_Cond\n",
      "False    113612\n",
      "True       2764\n",
      "Name: Road_Cond, dtype: int64\n",
      "\n",
      "Light_Cond\n",
      "False    113528\n",
      "True       2848\n",
      "Name: Light_Cond, dtype: int64\n",
      "\n"
     ]
    }
   ],
   "source": [
    "missing_data = df2[['Weather', 'Road_Cond', 'Light_Cond']].isnull()\n",
    "for column in missing_data.columns.values.tolist():\n",
    "    print(column)\n",
    "    print (missing_data[column].value_counts())\n",
    "    print(\"\")  "
   ]
  },
  {
   "cell_type": "markdown",
   "metadata": {},
   "source": [
    "### Create Features <a class=\"anchor\" id=\"3.5\"></a>"
   ]
  },
  {
   "cell_type": "markdown",
   "metadata": {},
   "source": [
    "After analyzing the data set, I have decided to focus on these features: weather conditions, road conditions, and light conditions, with severity level as the target label."
   ]
  },
  {
   "cell_type": "code",
   "execution_count": 105,
   "metadata": {},
   "outputs": [
    {
     "name": "stdout",
     "output_type": "stream",
     "text": [
      "<class 'pandas.core.frame.DataFrame'>\n",
      "Int64Index: 116376 entries, 25055 to 194671\n",
      "Data columns (total 4 columns):\n",
      " #   Column         Non-Null Count   Dtype \n",
      "---  ------         --------------   ----- \n",
      " 0   Severity_Code  116376 non-null  int64 \n",
      " 1   Weather        113560 non-null  object\n",
      " 2   Road_Cond      113612 non-null  object\n",
      " 3   Light_Cond     113528 non-null  object\n",
      "dtypes: int64(1), object(3)\n",
      "memory usage: 4.4+ MB\n"
     ]
    }
   ],
   "source": [
    "# Set the list of features to include in Machine Learning\n",
    "#feature_list=['Addr_Type', 'Location', 'Collision_Type', 'Person_Count', 'Ped_Cyl_Count', 'Veh_Count', \n",
    "#              'Junction_Type', 'SDOT_Col_Desc', 'Inattention_Ind', 'Under_Infl', 'Weather', 'Road_Cond', \n",
    "#              'Light_Cond', 'Ped_ROW_Not_Grnt', 'Speeding', 'ST_Col_Code', 'Hit_Parked_Car', 'Ped_Inv', \n",
    "#              'Inc_DT', 'Inc_DayOfWeek', 'Inc_Time', 'Inc_Year', 'Inc_Month', 'Inc_Day', 'Inc_Hour']\n",
    "feature_list=['Severity_Code', 'Weather', 'Road_Cond', 'Light_Cond']\n",
    "Features=df2[feature_list].copy()\n",
    "Features.info()"
   ]
  },
  {
   "cell_type": "markdown",
   "metadata": {},
   "source": [
    "Plot distribution of Weather by Severity"
   ]
  },
  {
   "cell_type": "code",
   "execution_count": 177,
   "metadata": {},
   "outputs": [
    {
     "data": {
      "image/png": "[encoded data removed]",
      "text/plain": [
       "<Figure size 432x288 with 1 Axes>"
      ]
     },
     "metadata": {},
     "output_type": "display_data"
    }
   ],
   "source": [
    "#Features.hist(by='Severity_Code', column='Weather')\n",
    "g = sns.countplot(data=Features,x='Weather',hue='Severity_Code')\n",
    "plt.legend(title='Severity', loc='upper right', labels=['Physical Damage', 'Injury'])\n",
    "g.set_xticklabels(g.get_xticklabels(), rotation=45)\n",
    "plt.title(\"Weather Frequency and Severity\")\n",
    "plt.show(g)"
   ]
  },
  {
   "cell_type": "markdown",
   "metadata": {},
   "source": [
    "Plot distribution of Road Conditions by Severity"
   ]
  },
  {
   "cell_type": "code",
   "execution_count": 185,
   "metadata": {},
   "outputs": [
    {
     "data": {
      "image/png": "[encoded data removed]",
      "text/plain": [
       "<Figure size 432x288 with 1 Axes>"
      ]
     },
     "metadata": {},
     "output_type": "display_data"
    }
   ],
   "source": [
    "g = sns.countplot(data=Features,x='Road_Cond',hue='Severity_Code')\n",
    "plt.legend(title='Severity', loc='upper right', labels=['Physical Damage', 'Injury'])\n",
    "g.set_xticklabels(g.get_xticklabels(), rotation=45)\n",
    "plt.title(\"Road Conditions Frequency and Severity\")\n",
    "plt.show(g)"
   ]
  },
  {
   "cell_type": "markdown",
   "metadata": {},
   "source": [
    "Plot distribution of Light Conditions by Severity"
   ]
  },
  {
   "cell_type": "code",
   "execution_count": 184,
   "metadata": {},
   "outputs": [
    {
     "data": {
      "image/png": "[encoded data removed]",
      "text/plain": [
       "<Figure size 432x288 with 1 Axes>"
      ]
     },
     "metadata": {},
     "output_type": "display_data"
    }
   ],
   "source": [
    "g = sns.countplot(data=Features,x='Light_Cond',hue='Severity_Code')\n",
    "plt.legend(title='Severity', loc='upper right', labels=['Physical Damage', 'Injury'])\n",
    "g.set_xticklabels(g.get_xticklabels(), rotation=45)\n",
    "plt.title(\"Light Conditions Frequency and Severity\")\n",
    "plt.show(g)"
   ]
  },
  {
   "cell_type": "code",
   "execution_count": 53,
   "metadata": {},
   "outputs": [
    {
     "data": {
      "text/plain": [
       "Severity_Code    0.000000\n",
       "Weather          0.024197\n",
       "Road_Cond        0.023751\n",
       "Light_Cond       0.024472\n",
       "dtype: float64"
      ]
     },
     "execution_count": 53,
     "metadata": {},
     "output_type": "execute_result"
    }
   ],
   "source": [
    "# Check missing values\n",
    "Features.isnull().mean()"
   ]
  },
  {
   "cell_type": "code",
   "execution_count": 92,
   "metadata": {},
   "outputs": [
    {
     "data": {
      "text/plain": [
       "(113430, 27)"
      ]
     },
     "execution_count": 92,
     "metadata": {},
     "output_type": "execute_result"
    }
   ],
   "source": [
    "# drop all rows with any missing values\n",
    "Features.dropna(subset=Features.columns[Features.isnull().mean()!=0], how='any', axis=0, inplace=True)\n",
    "Features.shape"
   ]
  },
  {
   "cell_type": "code",
   "execution_count": 55,
   "metadata": {},
   "outputs": [
    {
     "data": {
      "text/html": [
       "<div>\n",
       "<style scoped>\n",
       "    .dataframe tbody tr th:only-of-type {\n",
       "        vertical-align: middle;\n",
       "    }\n",
       "\n",
       "    .dataframe tbody tr th {\n",
       "        vertical-align: top;\n",
       "    }\n",
       "\n",
       "    .dataframe thead th {\n",
       "        text-align: right;\n",
       "    }\n",
       "</style>\n",
       "<table border=\"1\" class=\"dataframe\">\n",
       "  <thead>\n",
       "    <tr style=\"text-align: right;\">\n",
       "      <th></th>\n",
       "      <th>Severity_Code</th>\n",
       "      <th>Road_Cond</th>\n",
       "      <th>Light_Cond</th>\n",
       "      <th>Blowing Sand/Dirt</th>\n",
       "      <th>Clear</th>\n",
       "      <th>Fog/Smog/Smoke</th>\n",
       "      <th>Other</th>\n",
       "      <th>Overcast</th>\n",
       "      <th>Partly Cloudy</th>\n",
       "      <th>Raining</th>\n",
       "      <th>Severe Crosswind</th>\n",
       "      <th>Sleet/Hail/Freezing Rain</th>\n",
       "      <th>Snowing</th>\n",
       "      <th>Unknown</th>\n",
       "    </tr>\n",
       "  </thead>\n",
       "  <tbody>\n",
       "    <tr>\n",
       "      <th>25055</th>\n",
       "      <td>0</td>\n",
       "      <td>Wet</td>\n",
       "      <td>Dark</td>\n",
       "      <td>0</td>\n",
       "      <td>0</td>\n",
       "      <td>0</td>\n",
       "      <td>0</td>\n",
       "      <td>0</td>\n",
       "      <td>0</td>\n",
       "      <td>1</td>\n",
       "      <td>0</td>\n",
       "      <td>0</td>\n",
       "      <td>0</td>\n",
       "      <td>0</td>\n",
       "    </tr>\n",
       "    <tr>\n",
       "      <th>65280</th>\n",
       "      <td>0</td>\n",
       "      <td>Dry</td>\n",
       "      <td>Daylight</td>\n",
       "      <td>0</td>\n",
       "      <td>1</td>\n",
       "      <td>0</td>\n",
       "      <td>0</td>\n",
       "      <td>0</td>\n",
       "      <td>0</td>\n",
       "      <td>0</td>\n",
       "      <td>0</td>\n",
       "      <td>0</td>\n",
       "      <td>0</td>\n",
       "      <td>0</td>\n",
       "    </tr>\n",
       "    <tr>\n",
       "      <th>86292</th>\n",
       "      <td>0</td>\n",
       "      <td>Unknown</td>\n",
       "      <td>Unknown</td>\n",
       "      <td>0</td>\n",
       "      <td>0</td>\n",
       "      <td>0</td>\n",
       "      <td>0</td>\n",
       "      <td>0</td>\n",
       "      <td>0</td>\n",
       "      <td>0</td>\n",
       "      <td>0</td>\n",
       "      <td>0</td>\n",
       "      <td>0</td>\n",
       "      <td>1</td>\n",
       "    </tr>\n",
       "    <tr>\n",
       "      <th>155111</th>\n",
       "      <td>0</td>\n",
       "      <td>Dry</td>\n",
       "      <td>Daylight</td>\n",
       "      <td>0</td>\n",
       "      <td>1</td>\n",
       "      <td>0</td>\n",
       "      <td>0</td>\n",
       "      <td>0</td>\n",
       "      <td>0</td>\n",
       "      <td>0</td>\n",
       "      <td>0</td>\n",
       "      <td>0</td>\n",
       "      <td>0</td>\n",
       "      <td>0</td>\n",
       "    </tr>\n",
       "    <tr>\n",
       "      <th>64598</th>\n",
       "      <td>0</td>\n",
       "      <td>Dry</td>\n",
       "      <td>Daylight</td>\n",
       "      <td>0</td>\n",
       "      <td>1</td>\n",
       "      <td>0</td>\n",
       "      <td>0</td>\n",
       "      <td>0</td>\n",
       "      <td>0</td>\n",
       "      <td>0</td>\n",
       "      <td>0</td>\n",
       "      <td>0</td>\n",
       "      <td>0</td>\n",
       "      <td>0</td>\n",
       "    </tr>\n",
       "  </tbody>\n",
       "</table>\n",
       "</div>"
      ],
      "text/plain": [
       "        Severity_Code Road_Cond Light_Cond  Blowing Sand/Dirt  Clear  \\\n",
       "25055               0       Wet       Dark                  0      0   \n",
       "65280               0       Dry   Daylight                  0      1   \n",
       "86292               0   Unknown    Unknown                  0      0   \n",
       "155111              0       Dry   Daylight                  0      1   \n",
       "64598               0       Dry   Daylight                  0      1   \n",
       "\n",
       "        Fog/Smog/Smoke  Other  Overcast  Partly Cloudy  Raining  \\\n",
       "25055                0      0         0              0        1   \n",
       "65280                0      0         0              0        0   \n",
       "86292                0      0         0              0        0   \n",
       "155111               0      0         0              0        0   \n",
       "64598                0      0         0              0        0   \n",
       "\n",
       "        Severe Crosswind  Sleet/Hail/Freezing Rain  Snowing  Unknown  \n",
       "25055                  0                         0        0        0  \n",
       "65280                  0                         0        0        0  \n",
       "86292                  0                         0        0        1  \n",
       "155111                 0                         0        0        0  \n",
       "64598                  0                         0        0        0  "
      ]
     },
     "execution_count": 55,
     "metadata": {},
     "output_type": "execute_result"
    }
   ],
   "source": [
    "Features = pd.concat([Features,pd.get_dummies(Features['Weather'])], axis=1)\n",
    "Features = Features.drop('Weather', axis=1)  \n",
    "Features.head()"
   ]
  },
  {
   "cell_type": "code",
   "execution_count": 56,
   "metadata": {},
   "outputs": [
    {
     "data": {
      "text/plain": [
       "Severity_Code                                                           57052\n",
       "Road_Cond                   WetDryUnknownDryDryDryDryDryDryUnknownDryDryDr...\n",
       "Light_Cond                  DarkDaylightUnknownDaylightDaylightDaylightDay...\n",
       "Blowing Sand/Dirt                                                          30\n",
       "Clear                                                                   67879\n",
       "Fog/Smog/Smoke                                                            355\n",
       "Other                                                                     400\n",
       "Overcast                                                                16822\n",
       "Partly Cloudy                                                               4\n",
       "Raining                                                                 20566\n",
       "Severe Crosswind                                                           13\n",
       "Sleet/Hail/Freezing Rain                                                   63\n",
       "Snowing                                                                   470\n",
       "Unknown                                                                  6828\n",
       "dtype: object"
      ]
     },
     "execution_count": 56,
     "metadata": {},
     "output_type": "execute_result"
    }
   ],
   "source": [
    "Features.sum(axis=0)"
   ]
  },
  {
   "cell_type": "code",
   "execution_count": 57,
   "metadata": {},
   "outputs": [],
   "source": [
    "#Features = Features.drop('Unknown', axis=1)\n",
    "#Features = Features.drop('Blowing Sand/Dirt', axis=1)  \n",
    "#Features = Features.drop('Partly Cloudy', axis=1)  \n",
    "#Features = Features.drop('Severe Crosswind', axis=1)  \n",
    "#Features = Features.drop('Sleet/Hail/Freezing Rain', axis=1)  \n",
    "#Features = Features.drop('Fog/Smog/Smoke', axis=1)  \n",
    "#Features = Features.drop('Other', axis=1)"
   ]
  },
  {
   "cell_type": "code",
   "execution_count": 58,
   "metadata": {},
   "outputs": [
    {
     "data": {
      "text/html": [
       "<div>\n",
       "<style scoped>\n",
       "    .dataframe tbody tr th:only-of-type {\n",
       "        vertical-align: middle;\n",
       "    }\n",
       "\n",
       "    .dataframe tbody tr th {\n",
       "        vertical-align: top;\n",
       "    }\n",
       "\n",
       "    .dataframe thead th {\n",
       "        text-align: right;\n",
       "    }\n",
       "</style>\n",
       "<table border=\"1\" class=\"dataframe\">\n",
       "  <thead>\n",
       "    <tr style=\"text-align: right;\">\n",
       "      <th></th>\n",
       "      <th>Severity_Code</th>\n",
       "      <th>Road_Cond</th>\n",
       "      <th>Blowing Sand/Dirt</th>\n",
       "      <th>Clear</th>\n",
       "      <th>Fog/Smog/Smoke</th>\n",
       "      <th>Other</th>\n",
       "      <th>Overcast</th>\n",
       "      <th>Partly Cloudy</th>\n",
       "      <th>Raining</th>\n",
       "      <th>Severe Crosswind</th>\n",
       "      <th>Sleet/Hail/Freezing Rain</th>\n",
       "      <th>Snowing</th>\n",
       "      <th>Unknown</th>\n",
       "      <th>Dark</th>\n",
       "      <th>Dawn</th>\n",
       "      <th>Daylight</th>\n",
       "      <th>Dusk</th>\n",
       "      <th>Other</th>\n",
       "      <th>Unknown</th>\n",
       "    </tr>\n",
       "  </thead>\n",
       "  <tbody>\n",
       "    <tr>\n",
       "      <th>25055</th>\n",
       "      <td>0</td>\n",
       "      <td>Wet</td>\n",
       "      <td>0</td>\n",
       "      <td>0</td>\n",
       "      <td>0</td>\n",
       "      <td>0</td>\n",
       "      <td>0</td>\n",
       "      <td>0</td>\n",
       "      <td>1</td>\n",
       "      <td>0</td>\n",
       "      <td>0</td>\n",
       "      <td>0</td>\n",
       "      <td>0</td>\n",
       "      <td>1</td>\n",
       "      <td>0</td>\n",
       "      <td>0</td>\n",
       "      <td>0</td>\n",
       "      <td>0</td>\n",
       "      <td>0</td>\n",
       "    </tr>\n",
       "    <tr>\n",
       "      <th>65280</th>\n",
       "      <td>0</td>\n",
       "      <td>Dry</td>\n",
       "      <td>0</td>\n",
       "      <td>1</td>\n",
       "      <td>0</td>\n",
       "      <td>0</td>\n",
       "      <td>0</td>\n",
       "      <td>0</td>\n",
       "      <td>0</td>\n",
       "      <td>0</td>\n",
       "      <td>0</td>\n",
       "      <td>0</td>\n",
       "      <td>0</td>\n",
       "      <td>0</td>\n",
       "      <td>0</td>\n",
       "      <td>1</td>\n",
       "      <td>0</td>\n",
       "      <td>0</td>\n",
       "      <td>0</td>\n",
       "    </tr>\n",
       "    <tr>\n",
       "      <th>86292</th>\n",
       "      <td>0</td>\n",
       "      <td>Unknown</td>\n",
       "      <td>0</td>\n",
       "      <td>0</td>\n",
       "      <td>0</td>\n",
       "      <td>0</td>\n",
       "      <td>0</td>\n",
       "      <td>0</td>\n",
       "      <td>0</td>\n",
       "      <td>0</td>\n",
       "      <td>0</td>\n",
       "      <td>0</td>\n",
       "      <td>1</td>\n",
       "      <td>0</td>\n",
       "      <td>0</td>\n",
       "      <td>0</td>\n",
       "      <td>0</td>\n",
       "      <td>0</td>\n",
       "      <td>1</td>\n",
       "    </tr>\n",
       "    <tr>\n",
       "      <th>155111</th>\n",
       "      <td>0</td>\n",
       "      <td>Dry</td>\n",
       "      <td>0</td>\n",
       "      <td>1</td>\n",
       "      <td>0</td>\n",
       "      <td>0</td>\n",
       "      <td>0</td>\n",
       "      <td>0</td>\n",
       "      <td>0</td>\n",
       "      <td>0</td>\n",
       "      <td>0</td>\n",
       "      <td>0</td>\n",
       "      <td>0</td>\n",
       "      <td>0</td>\n",
       "      <td>0</td>\n",
       "      <td>1</td>\n",
       "      <td>0</td>\n",
       "      <td>0</td>\n",
       "      <td>0</td>\n",
       "    </tr>\n",
       "    <tr>\n",
       "      <th>64598</th>\n",
       "      <td>0</td>\n",
       "      <td>Dry</td>\n",
       "      <td>0</td>\n",
       "      <td>1</td>\n",
       "      <td>0</td>\n",
       "      <td>0</td>\n",
       "      <td>0</td>\n",
       "      <td>0</td>\n",
       "      <td>0</td>\n",
       "      <td>0</td>\n",
       "      <td>0</td>\n",
       "      <td>0</td>\n",
       "      <td>0</td>\n",
       "      <td>0</td>\n",
       "      <td>0</td>\n",
       "      <td>1</td>\n",
       "      <td>0</td>\n",
       "      <td>0</td>\n",
       "      <td>0</td>\n",
       "    </tr>\n",
       "  </tbody>\n",
       "</table>\n",
       "</div>"
      ],
      "text/plain": [
       "        Severity_Code Road_Cond  Blowing Sand/Dirt  Clear  Fog/Smog/Smoke  \\\n",
       "25055               0       Wet                  0      0               0   \n",
       "65280               0       Dry                  0      1               0   \n",
       "86292               0   Unknown                  0      0               0   \n",
       "155111              0       Dry                  0      1               0   \n",
       "64598               0       Dry                  0      1               0   \n",
       "\n",
       "        Other  Overcast  Partly Cloudy  Raining  Severe Crosswind  \\\n",
       "25055       0         0              0        1                 0   \n",
       "65280       0         0              0        0                 0   \n",
       "86292       0         0              0        0                 0   \n",
       "155111      0         0              0        0                 0   \n",
       "64598       0         0              0        0                 0   \n",
       "\n",
       "        Sleet/Hail/Freezing Rain  Snowing  Unknown  Dark  Dawn  Daylight  \\\n",
       "25055                          0        0        0     1     0         0   \n",
       "65280                          0        0        0     0     0         1   \n",
       "86292                          0        0        1     0     0         0   \n",
       "155111                         0        0        0     0     0         1   \n",
       "64598                          0        0        0     0     0         1   \n",
       "\n",
       "        Dusk  Other  Unknown  \n",
       "25055      0      0        0  \n",
       "65280      0      0        0  \n",
       "86292      0      0        1  \n",
       "155111     0      0        0  \n",
       "64598      0      0        0  "
      ]
     },
     "execution_count": 58,
     "metadata": {},
     "output_type": "execute_result"
    }
   ],
   "source": [
    "Features = pd.concat([Features,pd.get_dummies(Features['Light_Cond'])], axis=1)\n",
    "Features = Features.drop('Light_Cond', axis=1)  \n",
    "Features.head()"
   ]
  },
  {
   "cell_type": "code",
   "execution_count": 59,
   "metadata": {},
   "outputs": [],
   "source": [
    "#Features.sum(axis=0)"
   ]
  },
  {
   "cell_type": "code",
   "execution_count": 60,
   "metadata": {},
   "outputs": [
    {
     "data": {
      "text/html": [
       "<div>\n",
       "<style scoped>\n",
       "    .dataframe tbody tr th:only-of-type {\n",
       "        vertical-align: middle;\n",
       "    }\n",
       "\n",
       "    .dataframe tbody tr th {\n",
       "        vertical-align: top;\n",
       "    }\n",
       "\n",
       "    .dataframe thead th {\n",
       "        text-align: right;\n",
       "    }\n",
       "</style>\n",
       "<table border=\"1\" class=\"dataframe\">\n",
       "  <thead>\n",
       "    <tr style=\"text-align: right;\">\n",
       "      <th></th>\n",
       "      <th>Severity_Code</th>\n",
       "      <th>Road_Cond</th>\n",
       "      <th>Blowing Sand/Dirt</th>\n",
       "      <th>Clear</th>\n",
       "      <th>Fog/Smog/Smoke</th>\n",
       "      <th>Other</th>\n",
       "      <th>Overcast</th>\n",
       "      <th>Partly Cloudy</th>\n",
       "      <th>Raining</th>\n",
       "      <th>Severe Crosswind</th>\n",
       "      <th>Sleet/Hail/Freezing Rain</th>\n",
       "      <th>Snowing</th>\n",
       "      <th>Unknown</th>\n",
       "      <th>Dark</th>\n",
       "      <th>Dawn</th>\n",
       "      <th>Daylight</th>\n",
       "      <th>Dusk</th>\n",
       "      <th>Other</th>\n",
       "      <th>Unknown</th>\n",
       "    </tr>\n",
       "  </thead>\n",
       "  <tbody>\n",
       "    <tr>\n",
       "      <th>25055</th>\n",
       "      <td>0</td>\n",
       "      <td>Wet</td>\n",
       "      <td>0</td>\n",
       "      <td>0</td>\n",
       "      <td>0</td>\n",
       "      <td>0</td>\n",
       "      <td>0</td>\n",
       "      <td>0</td>\n",
       "      <td>1</td>\n",
       "      <td>0</td>\n",
       "      <td>0</td>\n",
       "      <td>0</td>\n",
       "      <td>0</td>\n",
       "      <td>1</td>\n",
       "      <td>0</td>\n",
       "      <td>0</td>\n",
       "      <td>0</td>\n",
       "      <td>0</td>\n",
       "      <td>0</td>\n",
       "    </tr>\n",
       "    <tr>\n",
       "      <th>65280</th>\n",
       "      <td>0</td>\n",
       "      <td>Dry</td>\n",
       "      <td>0</td>\n",
       "      <td>1</td>\n",
       "      <td>0</td>\n",
       "      <td>0</td>\n",
       "      <td>0</td>\n",
       "      <td>0</td>\n",
       "      <td>0</td>\n",
       "      <td>0</td>\n",
       "      <td>0</td>\n",
       "      <td>0</td>\n",
       "      <td>0</td>\n",
       "      <td>0</td>\n",
       "      <td>0</td>\n",
       "      <td>1</td>\n",
       "      <td>0</td>\n",
       "      <td>0</td>\n",
       "      <td>0</td>\n",
       "    </tr>\n",
       "    <tr>\n",
       "      <th>86292</th>\n",
       "      <td>0</td>\n",
       "      <td>Unknown</td>\n",
       "      <td>0</td>\n",
       "      <td>0</td>\n",
       "      <td>0</td>\n",
       "      <td>0</td>\n",
       "      <td>0</td>\n",
       "      <td>0</td>\n",
       "      <td>0</td>\n",
       "      <td>0</td>\n",
       "      <td>0</td>\n",
       "      <td>0</td>\n",
       "      <td>1</td>\n",
       "      <td>0</td>\n",
       "      <td>0</td>\n",
       "      <td>0</td>\n",
       "      <td>0</td>\n",
       "      <td>0</td>\n",
       "      <td>1</td>\n",
       "    </tr>\n",
       "    <tr>\n",
       "      <th>155111</th>\n",
       "      <td>0</td>\n",
       "      <td>Dry</td>\n",
       "      <td>0</td>\n",
       "      <td>1</td>\n",
       "      <td>0</td>\n",
       "      <td>0</td>\n",
       "      <td>0</td>\n",
       "      <td>0</td>\n",
       "      <td>0</td>\n",
       "      <td>0</td>\n",
       "      <td>0</td>\n",
       "      <td>0</td>\n",
       "      <td>0</td>\n",
       "      <td>0</td>\n",
       "      <td>0</td>\n",
       "      <td>1</td>\n",
       "      <td>0</td>\n",
       "      <td>0</td>\n",
       "      <td>0</td>\n",
       "    </tr>\n",
       "    <tr>\n",
       "      <th>64598</th>\n",
       "      <td>0</td>\n",
       "      <td>Dry</td>\n",
       "      <td>0</td>\n",
       "      <td>1</td>\n",
       "      <td>0</td>\n",
       "      <td>0</td>\n",
       "      <td>0</td>\n",
       "      <td>0</td>\n",
       "      <td>0</td>\n",
       "      <td>0</td>\n",
       "      <td>0</td>\n",
       "      <td>0</td>\n",
       "      <td>0</td>\n",
       "      <td>0</td>\n",
       "      <td>0</td>\n",
       "      <td>1</td>\n",
       "      <td>0</td>\n",
       "      <td>0</td>\n",
       "      <td>0</td>\n",
       "    </tr>\n",
       "  </tbody>\n",
       "</table>\n",
       "</div>"
      ],
      "text/plain": [
       "        Severity_Code Road_Cond  Blowing Sand/Dirt  Clear  Fog/Smog/Smoke  \\\n",
       "25055               0       Wet                  0      0               0   \n",
       "65280               0       Dry                  0      1               0   \n",
       "86292               0   Unknown                  0      0               0   \n",
       "155111              0       Dry                  0      1               0   \n",
       "64598               0       Dry                  0      1               0   \n",
       "\n",
       "        Other  Overcast  Partly Cloudy  Raining  Severe Crosswind  \\\n",
       "25055       0         0              0        1                 0   \n",
       "65280       0         0              0        0                 0   \n",
       "86292       0         0              0        0                 0   \n",
       "155111      0         0              0        0                 0   \n",
       "64598       0         0              0        0                 0   \n",
       "\n",
       "        Sleet/Hail/Freezing Rain  Snowing  Unknown  Dark  Dawn  Daylight  \\\n",
       "25055                          0        0        0     1     0         0   \n",
       "65280                          0        0        0     0     0         1   \n",
       "86292                          0        0        1     0     0         0   \n",
       "155111                         0        0        0     0     0         1   \n",
       "64598                          0        0        0     0     0         1   \n",
       "\n",
       "        Dusk  Other  Unknown  \n",
       "25055      0      0        0  \n",
       "65280      0      0        0  \n",
       "86292      0      0        1  \n",
       "155111     0      0        0  \n",
       "64598      0      0        0  "
      ]
     },
     "execution_count": 60,
     "metadata": {},
     "output_type": "execute_result"
    }
   ],
   "source": [
    "#Features = Features.drop('Unknown', axis=1)\n",
    "#Features = Features.drop('Other', axis=1)\n",
    "Features.head()"
   ]
  },
  {
   "cell_type": "code",
   "execution_count": 61,
   "metadata": {},
   "outputs": [
    {
     "data": {
      "text/html": [
       "<div>\n",
       "<style scoped>\n",
       "    .dataframe tbody tr th:only-of-type {\n",
       "        vertical-align: middle;\n",
       "    }\n",
       "\n",
       "    .dataframe tbody tr th {\n",
       "        vertical-align: top;\n",
       "    }\n",
       "\n",
       "    .dataframe thead th {\n",
       "        text-align: right;\n",
       "    }\n",
       "</style>\n",
       "<table border=\"1\" class=\"dataframe\">\n",
       "  <thead>\n",
       "    <tr style=\"text-align: right;\">\n",
       "      <th></th>\n",
       "      <th>Severity_Code</th>\n",
       "      <th>Blowing Sand/Dirt</th>\n",
       "      <th>Clear</th>\n",
       "      <th>Fog/Smog/Smoke</th>\n",
       "      <th>Other</th>\n",
       "      <th>Overcast</th>\n",
       "      <th>Partly Cloudy</th>\n",
       "      <th>Raining</th>\n",
       "      <th>Severe Crosswind</th>\n",
       "      <th>Sleet/Hail/Freezing Rain</th>\n",
       "      <th>...</th>\n",
       "      <th>Unknown</th>\n",
       "      <th>Dry</th>\n",
       "      <th>Ice</th>\n",
       "      <th>Oil</th>\n",
       "      <th>Other</th>\n",
       "      <th>Sand/Mud/Dirt</th>\n",
       "      <th>Snow/Slush</th>\n",
       "      <th>Standing Water</th>\n",
       "      <th>Unknown</th>\n",
       "      <th>Wet</th>\n",
       "    </tr>\n",
       "  </thead>\n",
       "  <tbody>\n",
       "    <tr>\n",
       "      <th>25055</th>\n",
       "      <td>0</td>\n",
       "      <td>0</td>\n",
       "      <td>0</td>\n",
       "      <td>0</td>\n",
       "      <td>0</td>\n",
       "      <td>0</td>\n",
       "      <td>0</td>\n",
       "      <td>1</td>\n",
       "      <td>0</td>\n",
       "      <td>0</td>\n",
       "      <td>...</td>\n",
       "      <td>0</td>\n",
       "      <td>0</td>\n",
       "      <td>0</td>\n",
       "      <td>0</td>\n",
       "      <td>0</td>\n",
       "      <td>0</td>\n",
       "      <td>0</td>\n",
       "      <td>0</td>\n",
       "      <td>0</td>\n",
       "      <td>1</td>\n",
       "    </tr>\n",
       "    <tr>\n",
       "      <th>65280</th>\n",
       "      <td>0</td>\n",
       "      <td>0</td>\n",
       "      <td>1</td>\n",
       "      <td>0</td>\n",
       "      <td>0</td>\n",
       "      <td>0</td>\n",
       "      <td>0</td>\n",
       "      <td>0</td>\n",
       "      <td>0</td>\n",
       "      <td>0</td>\n",
       "      <td>...</td>\n",
       "      <td>0</td>\n",
       "      <td>1</td>\n",
       "      <td>0</td>\n",
       "      <td>0</td>\n",
       "      <td>0</td>\n",
       "      <td>0</td>\n",
       "      <td>0</td>\n",
       "      <td>0</td>\n",
       "      <td>0</td>\n",
       "      <td>0</td>\n",
       "    </tr>\n",
       "    <tr>\n",
       "      <th>86292</th>\n",
       "      <td>0</td>\n",
       "      <td>0</td>\n",
       "      <td>0</td>\n",
       "      <td>0</td>\n",
       "      <td>0</td>\n",
       "      <td>0</td>\n",
       "      <td>0</td>\n",
       "      <td>0</td>\n",
       "      <td>0</td>\n",
       "      <td>0</td>\n",
       "      <td>...</td>\n",
       "      <td>1</td>\n",
       "      <td>0</td>\n",
       "      <td>0</td>\n",
       "      <td>0</td>\n",
       "      <td>0</td>\n",
       "      <td>0</td>\n",
       "      <td>0</td>\n",
       "      <td>0</td>\n",
       "      <td>1</td>\n",
       "      <td>0</td>\n",
       "    </tr>\n",
       "    <tr>\n",
       "      <th>155111</th>\n",
       "      <td>0</td>\n",
       "      <td>0</td>\n",
       "      <td>1</td>\n",
       "      <td>0</td>\n",
       "      <td>0</td>\n",
       "      <td>0</td>\n",
       "      <td>0</td>\n",
       "      <td>0</td>\n",
       "      <td>0</td>\n",
       "      <td>0</td>\n",
       "      <td>...</td>\n",
       "      <td>0</td>\n",
       "      <td>1</td>\n",
       "      <td>0</td>\n",
       "      <td>0</td>\n",
       "      <td>0</td>\n",
       "      <td>0</td>\n",
       "      <td>0</td>\n",
       "      <td>0</td>\n",
       "      <td>0</td>\n",
       "      <td>0</td>\n",
       "    </tr>\n",
       "    <tr>\n",
       "      <th>64598</th>\n",
       "      <td>0</td>\n",
       "      <td>0</td>\n",
       "      <td>1</td>\n",
       "      <td>0</td>\n",
       "      <td>0</td>\n",
       "      <td>0</td>\n",
       "      <td>0</td>\n",
       "      <td>0</td>\n",
       "      <td>0</td>\n",
       "      <td>0</td>\n",
       "      <td>...</td>\n",
       "      <td>0</td>\n",
       "      <td>1</td>\n",
       "      <td>0</td>\n",
       "      <td>0</td>\n",
       "      <td>0</td>\n",
       "      <td>0</td>\n",
       "      <td>0</td>\n",
       "      <td>0</td>\n",
       "      <td>0</td>\n",
       "      <td>0</td>\n",
       "    </tr>\n",
       "  </tbody>\n",
       "</table>\n",
       "<p>5 rows × 27 columns</p>\n",
       "</div>"
      ],
      "text/plain": [
       "        Severity_Code  Blowing Sand/Dirt  Clear  Fog/Smog/Smoke  Other  \\\n",
       "25055               0                  0      0               0      0   \n",
       "65280               0                  0      1               0      0   \n",
       "86292               0                  0      0               0      0   \n",
       "155111              0                  0      1               0      0   \n",
       "64598               0                  0      1               0      0   \n",
       "\n",
       "        Overcast  Partly Cloudy  Raining  Severe Crosswind  \\\n",
       "25055          0              0        1                 0   \n",
       "65280          0              0        0                 0   \n",
       "86292          0              0        0                 0   \n",
       "155111         0              0        0                 0   \n",
       "64598          0              0        0                 0   \n",
       "\n",
       "        Sleet/Hail/Freezing Rain  ...  Unknown  Dry  Ice  Oil  Other  \\\n",
       "25055                          0  ...        0    0    0    0      0   \n",
       "65280                          0  ...        0    1    0    0      0   \n",
       "86292                          0  ...        1    0    0    0      0   \n",
       "155111                         0  ...        0    1    0    0      0   \n",
       "64598                          0  ...        0    1    0    0      0   \n",
       "\n",
       "        Sand/Mud/Dirt  Snow/Slush  Standing Water  Unknown  Wet  \n",
       "25055               0           0               0        0    1  \n",
       "65280               0           0               0        0    0  \n",
       "86292               0           0               0        1    0  \n",
       "155111              0           0               0        0    0  \n",
       "64598               0           0               0        0    0  \n",
       "\n",
       "[5 rows x 27 columns]"
      ]
     },
     "execution_count": 61,
     "metadata": {},
     "output_type": "execute_result"
    }
   ],
   "source": [
    "Features = pd.concat([Features,pd.get_dummies(Features['Road_Cond'])], axis=1)\n",
    "Features = Features.drop('Road_Cond', axis=1)  \n",
    "Features.head()"
   ]
  },
  {
   "cell_type": "code",
   "execution_count": 62,
   "metadata": {},
   "outputs": [],
   "source": [
    "#Features.sum(axis=0)"
   ]
  },
  {
   "cell_type": "code",
   "execution_count": 63,
   "metadata": {},
   "outputs": [
    {
     "data": {
      "text/html": [
       "<div>\n",
       "<style scoped>\n",
       "    .dataframe tbody tr th:only-of-type {\n",
       "        vertical-align: middle;\n",
       "    }\n",
       "\n",
       "    .dataframe tbody tr th {\n",
       "        vertical-align: top;\n",
       "    }\n",
       "\n",
       "    .dataframe thead th {\n",
       "        text-align: right;\n",
       "    }\n",
       "</style>\n",
       "<table border=\"1\" class=\"dataframe\">\n",
       "  <thead>\n",
       "    <tr style=\"text-align: right;\">\n",
       "      <th></th>\n",
       "      <th>Severity_Code</th>\n",
       "      <th>Blowing Sand/Dirt</th>\n",
       "      <th>Clear</th>\n",
       "      <th>Fog/Smog/Smoke</th>\n",
       "      <th>Other</th>\n",
       "      <th>Overcast</th>\n",
       "      <th>Partly Cloudy</th>\n",
       "      <th>Raining</th>\n",
       "      <th>Severe Crosswind</th>\n",
       "      <th>Sleet/Hail/Freezing Rain</th>\n",
       "      <th>...</th>\n",
       "      <th>Unknown</th>\n",
       "      <th>Dry</th>\n",
       "      <th>Ice</th>\n",
       "      <th>Oil</th>\n",
       "      <th>Other</th>\n",
       "      <th>Sand/Mud/Dirt</th>\n",
       "      <th>Snow/Slush</th>\n",
       "      <th>Standing Water</th>\n",
       "      <th>Unknown</th>\n",
       "      <th>Wet</th>\n",
       "    </tr>\n",
       "  </thead>\n",
       "  <tbody>\n",
       "    <tr>\n",
       "      <th>25055</th>\n",
       "      <td>0</td>\n",
       "      <td>0</td>\n",
       "      <td>0</td>\n",
       "      <td>0</td>\n",
       "      <td>0</td>\n",
       "      <td>0</td>\n",
       "      <td>0</td>\n",
       "      <td>1</td>\n",
       "      <td>0</td>\n",
       "      <td>0</td>\n",
       "      <td>...</td>\n",
       "      <td>0</td>\n",
       "      <td>0</td>\n",
       "      <td>0</td>\n",
       "      <td>0</td>\n",
       "      <td>0</td>\n",
       "      <td>0</td>\n",
       "      <td>0</td>\n",
       "      <td>0</td>\n",
       "      <td>0</td>\n",
       "      <td>1</td>\n",
       "    </tr>\n",
       "    <tr>\n",
       "      <th>65280</th>\n",
       "      <td>0</td>\n",
       "      <td>0</td>\n",
       "      <td>1</td>\n",
       "      <td>0</td>\n",
       "      <td>0</td>\n",
       "      <td>0</td>\n",
       "      <td>0</td>\n",
       "      <td>0</td>\n",
       "      <td>0</td>\n",
       "      <td>0</td>\n",
       "      <td>...</td>\n",
       "      <td>0</td>\n",
       "      <td>1</td>\n",
       "      <td>0</td>\n",
       "      <td>0</td>\n",
       "      <td>0</td>\n",
       "      <td>0</td>\n",
       "      <td>0</td>\n",
       "      <td>0</td>\n",
       "      <td>0</td>\n",
       "      <td>0</td>\n",
       "    </tr>\n",
       "    <tr>\n",
       "      <th>86292</th>\n",
       "      <td>0</td>\n",
       "      <td>0</td>\n",
       "      <td>0</td>\n",
       "      <td>0</td>\n",
       "      <td>0</td>\n",
       "      <td>0</td>\n",
       "      <td>0</td>\n",
       "      <td>0</td>\n",
       "      <td>0</td>\n",
       "      <td>0</td>\n",
       "      <td>...</td>\n",
       "      <td>1</td>\n",
       "      <td>0</td>\n",
       "      <td>0</td>\n",
       "      <td>0</td>\n",
       "      <td>0</td>\n",
       "      <td>0</td>\n",
       "      <td>0</td>\n",
       "      <td>0</td>\n",
       "      <td>1</td>\n",
       "      <td>0</td>\n",
       "    </tr>\n",
       "    <tr>\n",
       "      <th>155111</th>\n",
       "      <td>0</td>\n",
       "      <td>0</td>\n",
       "      <td>1</td>\n",
       "      <td>0</td>\n",
       "      <td>0</td>\n",
       "      <td>0</td>\n",
       "      <td>0</td>\n",
       "      <td>0</td>\n",
       "      <td>0</td>\n",
       "      <td>0</td>\n",
       "      <td>...</td>\n",
       "      <td>0</td>\n",
       "      <td>1</td>\n",
       "      <td>0</td>\n",
       "      <td>0</td>\n",
       "      <td>0</td>\n",
       "      <td>0</td>\n",
       "      <td>0</td>\n",
       "      <td>0</td>\n",
       "      <td>0</td>\n",
       "      <td>0</td>\n",
       "    </tr>\n",
       "    <tr>\n",
       "      <th>64598</th>\n",
       "      <td>0</td>\n",
       "      <td>0</td>\n",
       "      <td>1</td>\n",
       "      <td>0</td>\n",
       "      <td>0</td>\n",
       "      <td>0</td>\n",
       "      <td>0</td>\n",
       "      <td>0</td>\n",
       "      <td>0</td>\n",
       "      <td>0</td>\n",
       "      <td>...</td>\n",
       "      <td>0</td>\n",
       "      <td>1</td>\n",
       "      <td>0</td>\n",
       "      <td>0</td>\n",
       "      <td>0</td>\n",
       "      <td>0</td>\n",
       "      <td>0</td>\n",
       "      <td>0</td>\n",
       "      <td>0</td>\n",
       "      <td>0</td>\n",
       "    </tr>\n",
       "  </tbody>\n",
       "</table>\n",
       "<p>5 rows × 27 columns</p>\n",
       "</div>"
      ],
      "text/plain": [
       "        Severity_Code  Blowing Sand/Dirt  Clear  Fog/Smog/Smoke  Other  \\\n",
       "25055               0                  0      0               0      0   \n",
       "65280               0                  0      1               0      0   \n",
       "86292               0                  0      0               0      0   \n",
       "155111              0                  0      1               0      0   \n",
       "64598               0                  0      1               0      0   \n",
       "\n",
       "        Overcast  Partly Cloudy  Raining  Severe Crosswind  \\\n",
       "25055          0              0        1                 0   \n",
       "65280          0              0        0                 0   \n",
       "86292          0              0        0                 0   \n",
       "155111         0              0        0                 0   \n",
       "64598          0              0        0                 0   \n",
       "\n",
       "        Sleet/Hail/Freezing Rain  ...  Unknown  Dry  Ice  Oil  Other  \\\n",
       "25055                          0  ...        0    0    0    0      0   \n",
       "65280                          0  ...        0    1    0    0      0   \n",
       "86292                          0  ...        1    0    0    0      0   \n",
       "155111                         0  ...        0    1    0    0      0   \n",
       "64598                          0  ...        0    1    0    0      0   \n",
       "\n",
       "        Sand/Mud/Dirt  Snow/Slush  Standing Water  Unknown  Wet  \n",
       "25055               0           0               0        0    1  \n",
       "65280               0           0               0        0    0  \n",
       "86292               0           0               0        1    0  \n",
       "155111              0           0               0        0    0  \n",
       "64598               0           0               0        0    0  \n",
       "\n",
       "[5 rows x 27 columns]"
      ]
     },
     "execution_count": 63,
     "metadata": {},
     "output_type": "execute_result"
    }
   ],
   "source": [
    "#Features = Features.drop('Unknown', axis=1)\n",
    "#Features = Features.drop('Oil', axis=1)\n",
    "#Features = Features.drop('Other', axis=1)\n",
    "#Features = Features.drop('Sand/Mud/Dirt', axis=1)\n",
    "#Features = Features.drop('Standing Water', axis=1)\n",
    "Features.head()"
   ]
  },
  {
   "cell_type": "markdown",
   "metadata": {},
   "source": [
    "Save the features."
   ]
  },
  {
   "cell_type": "code",
   "execution_count": 65,
   "metadata": {},
   "outputs": [
    {
     "data": {
      "text/plain": [
       "array([0, 0, 0, 0, 0])"
      ]
     },
     "execution_count": 65,
     "metadata": {},
     "output_type": "execute_result"
    }
   ],
   "source": [
    "y = Features['Severity_Code'].values\n",
    "y[0:5]"
   ]
  },
  {
   "cell_type": "code",
   "execution_count": 66,
   "metadata": {},
   "outputs": [
    {
     "data": {
      "text/html": [
       "<div>\n",
       "<style scoped>\n",
       "    .dataframe tbody tr th:only-of-type {\n",
       "        vertical-align: middle;\n",
       "    }\n",
       "\n",
       "    .dataframe tbody tr th {\n",
       "        vertical-align: top;\n",
       "    }\n",
       "\n",
       "    .dataframe thead th {\n",
       "        text-align: right;\n",
       "    }\n",
       "</style>\n",
       "<table border=\"1\" class=\"dataframe\">\n",
       "  <thead>\n",
       "    <tr style=\"text-align: right;\">\n",
       "      <th></th>\n",
       "      <th>Blowing Sand/Dirt</th>\n",
       "      <th>Clear</th>\n",
       "      <th>Fog/Smog/Smoke</th>\n",
       "      <th>Other</th>\n",
       "      <th>Overcast</th>\n",
       "      <th>Partly Cloudy</th>\n",
       "      <th>Raining</th>\n",
       "      <th>Severe Crosswind</th>\n",
       "      <th>Sleet/Hail/Freezing Rain</th>\n",
       "      <th>Snowing</th>\n",
       "      <th>...</th>\n",
       "      <th>Unknown</th>\n",
       "      <th>Dry</th>\n",
       "      <th>Ice</th>\n",
       "      <th>Oil</th>\n",
       "      <th>Other</th>\n",
       "      <th>Sand/Mud/Dirt</th>\n",
       "      <th>Snow/Slush</th>\n",
       "      <th>Standing Water</th>\n",
       "      <th>Unknown</th>\n",
       "      <th>Wet</th>\n",
       "    </tr>\n",
       "  </thead>\n",
       "  <tbody>\n",
       "    <tr>\n",
       "      <th>25055</th>\n",
       "      <td>0</td>\n",
       "      <td>0</td>\n",
       "      <td>0</td>\n",
       "      <td>0</td>\n",
       "      <td>0</td>\n",
       "      <td>0</td>\n",
       "      <td>1</td>\n",
       "      <td>0</td>\n",
       "      <td>0</td>\n",
       "      <td>0</td>\n",
       "      <td>...</td>\n",
       "      <td>0</td>\n",
       "      <td>0</td>\n",
       "      <td>0</td>\n",
       "      <td>0</td>\n",
       "      <td>0</td>\n",
       "      <td>0</td>\n",
       "      <td>0</td>\n",
       "      <td>0</td>\n",
       "      <td>0</td>\n",
       "      <td>1</td>\n",
       "    </tr>\n",
       "    <tr>\n",
       "      <th>65280</th>\n",
       "      <td>0</td>\n",
       "      <td>1</td>\n",
       "      <td>0</td>\n",
       "      <td>0</td>\n",
       "      <td>0</td>\n",
       "      <td>0</td>\n",
       "      <td>0</td>\n",
       "      <td>0</td>\n",
       "      <td>0</td>\n",
       "      <td>0</td>\n",
       "      <td>...</td>\n",
       "      <td>0</td>\n",
       "      <td>1</td>\n",
       "      <td>0</td>\n",
       "      <td>0</td>\n",
       "      <td>0</td>\n",
       "      <td>0</td>\n",
       "      <td>0</td>\n",
       "      <td>0</td>\n",
       "      <td>0</td>\n",
       "      <td>0</td>\n",
       "    </tr>\n",
       "    <tr>\n",
       "      <th>86292</th>\n",
       "      <td>0</td>\n",
       "      <td>0</td>\n",
       "      <td>0</td>\n",
       "      <td>0</td>\n",
       "      <td>0</td>\n",
       "      <td>0</td>\n",
       "      <td>0</td>\n",
       "      <td>0</td>\n",
       "      <td>0</td>\n",
       "      <td>0</td>\n",
       "      <td>...</td>\n",
       "      <td>1</td>\n",
       "      <td>0</td>\n",
       "      <td>0</td>\n",
       "      <td>0</td>\n",
       "      <td>0</td>\n",
       "      <td>0</td>\n",
       "      <td>0</td>\n",
       "      <td>0</td>\n",
       "      <td>1</td>\n",
       "      <td>0</td>\n",
       "    </tr>\n",
       "    <tr>\n",
       "      <th>155111</th>\n",
       "      <td>0</td>\n",
       "      <td>1</td>\n",
       "      <td>0</td>\n",
       "      <td>0</td>\n",
       "      <td>0</td>\n",
       "      <td>0</td>\n",
       "      <td>0</td>\n",
       "      <td>0</td>\n",
       "      <td>0</td>\n",
       "      <td>0</td>\n",
       "      <td>...</td>\n",
       "      <td>0</td>\n",
       "      <td>1</td>\n",
       "      <td>0</td>\n",
       "      <td>0</td>\n",
       "      <td>0</td>\n",
       "      <td>0</td>\n",
       "      <td>0</td>\n",
       "      <td>0</td>\n",
       "      <td>0</td>\n",
       "      <td>0</td>\n",
       "    </tr>\n",
       "    <tr>\n",
       "      <th>64598</th>\n",
       "      <td>0</td>\n",
       "      <td>1</td>\n",
       "      <td>0</td>\n",
       "      <td>0</td>\n",
       "      <td>0</td>\n",
       "      <td>0</td>\n",
       "      <td>0</td>\n",
       "      <td>0</td>\n",
       "      <td>0</td>\n",
       "      <td>0</td>\n",
       "      <td>...</td>\n",
       "      <td>0</td>\n",
       "      <td>1</td>\n",
       "      <td>0</td>\n",
       "      <td>0</td>\n",
       "      <td>0</td>\n",
       "      <td>0</td>\n",
       "      <td>0</td>\n",
       "      <td>0</td>\n",
       "      <td>0</td>\n",
       "      <td>0</td>\n",
       "    </tr>\n",
       "  </tbody>\n",
       "</table>\n",
       "<p>5 rows × 26 columns</p>\n",
       "</div>"
      ],
      "text/plain": [
       "        Blowing Sand/Dirt  Clear  Fog/Smog/Smoke  Other  Overcast  \\\n",
       "25055                   0      0               0      0         0   \n",
       "65280                   0      1               0      0         0   \n",
       "86292                   0      0               0      0         0   \n",
       "155111                  0      1               0      0         0   \n",
       "64598                   0      1               0      0         0   \n",
       "\n",
       "        Partly Cloudy  Raining  Severe Crosswind  Sleet/Hail/Freezing Rain  \\\n",
       "25055               0        1                 0                         0   \n",
       "65280               0        0                 0                         0   \n",
       "86292               0        0                 0                         0   \n",
       "155111              0        0                 0                         0   \n",
       "64598               0        0                 0                         0   \n",
       "\n",
       "        Snowing  ...  Unknown  Dry  Ice  Oil  Other  Sand/Mud/Dirt  \\\n",
       "25055         0  ...        0    0    0    0      0              0   \n",
       "65280         0  ...        0    1    0    0      0              0   \n",
       "86292         0  ...        1    0    0    0      0              0   \n",
       "155111        0  ...        0    1    0    0      0              0   \n",
       "64598         0  ...        0    1    0    0      0              0   \n",
       "\n",
       "        Snow/Slush  Standing Water  Unknown  Wet  \n",
       "25055            0               0        0    1  \n",
       "65280            0               0        0    0  \n",
       "86292            0               0        1    0  \n",
       "155111           0               0        0    0  \n",
       "64598            0               0        0    0  \n",
       "\n",
       "[5 rows x 26 columns]"
      ]
     },
     "execution_count": 66,
     "metadata": {},
     "output_type": "execute_result"
    }
   ],
   "source": [
    "X = Features.drop('Severity_Code', axis=1)\n",
    "X[0:5]"
   ]
  },
  {
   "cell_type": "markdown",
   "metadata": {},
   "source": [
    "The data set is labeled with the severity of the accident - \"1\" or \"2\" indicating property damage or injury, respectively."
   ]
  },
  {
   "cell_type": "markdown",
   "metadata": {},
   "source": [
    "### Normalize Data\n",
    "\n",
    "Data Standardization give data zero mean and unit variance."
   ]
  },
  {
   "cell_type": "code",
   "execution_count": 67,
   "metadata": {},
   "outputs": [
    {
     "data": {
      "text/plain": [
       "array([[-0.016265  , -1.22072759, -0.05603132, -0.05948852, -0.41728451,\n",
       "        -0.00593846,  2.1249503 , -0.01070613, -0.02357366, -0.06450399,\n",
       "        -0.25308364,  1.64297514, -0.1171248 , -1.3050764 , -0.18065685,\n",
       "        -0.03347967, -0.23740606, -1.42153871, -0.07742966, -0.01854569,\n",
       "        -0.02706039, -0.02035987, -0.06825559, -0.02242243, -0.25221484,\n",
       "         1.69302   ],\n",
       "       [-0.016265  ,  0.81918358, -0.05603132, -0.05948852, -0.41728451,\n",
       "        -0.00593846, -0.47059924, -0.01070613, -0.02357366, -0.06450399,\n",
       "        -0.25308364, -0.60865194, -0.1171248 ,  0.76623866, -0.18065685,\n",
       "        -0.03347967, -0.23740606,  0.70346308, -0.07742966, -0.01854569,\n",
       "        -0.02706039, -0.02035987, -0.06825559, -0.02242243, -0.25221484,\n",
       "        -0.59066048],\n",
       "       [-0.016265  , -1.22072759, -0.05603132, -0.05948852, -0.41728451,\n",
       "        -0.00593846, -0.47059924, -0.01070613, -0.02357366, -0.06450399,\n",
       "         3.95126284, -0.60865194, -0.1171248 , -1.3050764 , -0.18065685,\n",
       "        -0.03347967,  4.21219236, -1.42153871, -0.07742966, -0.01854569,\n",
       "        -0.02706039, -0.02035987, -0.06825559, -0.02242243,  3.96487378,\n",
       "        -0.59066048],\n",
       "       [-0.016265  ,  0.81918358, -0.05603132, -0.05948852, -0.41728451,\n",
       "        -0.00593846, -0.47059924, -0.01070613, -0.02357366, -0.06450399,\n",
       "        -0.25308364, -0.60865194, -0.1171248 ,  0.76623866, -0.18065685,\n",
       "        -0.03347967, -0.23740606,  0.70346308, -0.07742966, -0.01854569,\n",
       "        -0.02706039, -0.02035987, -0.06825559, -0.02242243, -0.25221484,\n",
       "        -0.59066048],\n",
       "       [-0.016265  ,  0.81918358, -0.05603132, -0.05948852, -0.41728451,\n",
       "        -0.00593846, -0.47059924, -0.01070613, -0.02357366, -0.06450399,\n",
       "        -0.25308364, -0.60865194, -0.1171248 ,  0.76623866, -0.18065685,\n",
       "        -0.03347967, -0.23740606,  0.70346308, -0.07742966, -0.01854569,\n",
       "        -0.02706039, -0.02035987, -0.06825559, -0.02242243, -0.25221484,\n",
       "        -0.59066048]])"
      ]
     },
     "execution_count": 67,
     "metadata": {},
     "output_type": "execute_result"
    }
   ],
   "source": [
    "X = preprocessing.StandardScaler().fit(X).transform(X)\n",
    "X[0:5]"
   ]
  },
  {
   "cell_type": "markdown",
   "metadata": {},
   "source": [
    "## Modeling <a class=\"anchor\" id=\"4\"></a>\n",
    "\n",
    "In this phase, various algorithms and methods can be selected and applied to build the model including supervised machine learning techniques. You can select SVM, XGBoost, decision tree, or any other techniques. You can select a single or multiple machine learning models for the same data mining problem. At this phase, stepping back to the data preparation phase is often required."
   ]
  },
  {
   "cell_type": "markdown",
   "metadata": {},
   "source": [
    "### Train Test Split <a class=\"anchor\" id=\"4.1\"></a>"
   ]
  },
  {
   "cell_type": "code",
   "execution_count": 68,
   "metadata": {},
   "outputs": [
    {
     "name": "stdout",
     "output_type": "stream",
     "text": [
      "Train set: (90744, 26) (90744,)\n",
      "Test set: (22686, 26) (22686,)\n"
     ]
    }
   ],
   "source": [
    "X_train, X_test, y_train, y_test = train_test_split(X, y, test_size=0.2, random_state=4)\n",
    "print ('Train set:', X_train.shape,  y_train.shape)\n",
    "print ('Test set:', X_test.shape,  y_test.shape)"
   ]
  },
  {
   "cell_type": "markdown",
   "metadata": {},
   "source": [
    "### K Nearest Neighbor (KNN) <a class=\"anchor\" id=\"4.2\"></a>\n",
    "\n",
    "KNN will help predict the severity code of an outcome by finding the most similar to data point within k distance."
   ]
  },
  {
   "cell_type": "code",
   "execution_count": 69,
   "metadata": {},
   "outputs": [
    {
     "data": {
      "text/plain": [
       "array([0.        , 0.        , 0.54623997, 0.53649828, 0.54610773,\n",
       "       0.54055365, 0.54315437, 0.54050957, 0.55483558, 0.55470334,\n",
       "       0.55443886, 0.5519263 , 0.55505598, 0.55179406, 0.55554086,\n",
       "       0.55483558, 0.55448294, 0.55430662, 0.55518822])"
      ]
     },
     "execution_count": 69,
     "metadata": {},
     "output_type": "execute_result"
    }
   ],
   "source": [
    "Ks = 20\n",
    "mean_acc = np.zeros((Ks-1))\n",
    "std_acc = np.zeros((Ks-1))\n",
    "ConfustionMx = []\n",
    "for n in range(3,Ks):\n",
    "    \n",
    "    #Train Model and Predict  \n",
    "    neigh = KNeighborsClassifier(n_neighbors = n).fit(X_train,y_train)\n",
    "    yhat = neigh.predict(X_test)\n",
    "    mean_acc[n-1] = accuracy_score(y_test, yhat)\n",
    "\n",
    "    \n",
    "    std_acc[n-1] = np.std(yhat==y_test)/np.sqrt(yhat.shape[0])\n",
    "\n",
    "mean_acc"
   ]
  },
  {
   "cell_type": "markdown",
   "metadata": {},
   "source": [
    "Plot model accuracy for different number of Neighbors."
   ]
  },
  {
   "cell_type": "code",
   "execution_count": 70,
   "metadata": {},
   "outputs": [
    {
     "data": {
      "image/png": "[encoded data removed]",
      "text/plain": [
       "<Figure size 432x288 with 1 Axes>"
      ]
     },
     "metadata": {},
     "output_type": "display_data"
    }
   ],
   "source": [
    "plt.plot(range(1,Ks),mean_acc,'g')\n",
    "plt.fill_between(range(1,Ks),mean_acc - 1 * std_acc,mean_acc + 1 * std_acc, alpha=0.10)\n",
    "plt.legend(('Accuracy ', '+/- 3xstd'))\n",
    "plt.ylabel('Accuracy ')\n",
    "plt.xlabel('Number of Neighbors (K)')\n",
    "plt.xticks(range(1,21))\n",
    "plt.title('KNN Accuracy as K Increases')\n",
    "plt.tight_layout()\n",
    "plt.show()"
   ]
  },
  {
   "cell_type": "code",
   "execution_count": 71,
   "metadata": {},
   "outputs": [
    {
     "name": "stdout",
     "output_type": "stream",
     "text": [
      "The best accuracy was with 0.5555408622057657 with k = 15\n"
     ]
    }
   ],
   "source": [
    "print( \"The best accuracy was with\", mean_acc.max(), \"with k =\", mean_acc.argmax()+1) "
   ]
  },
  {
   "cell_type": "code",
   "execution_count": 72,
   "metadata": {},
   "outputs": [],
   "source": [
    "kNN_model = KNeighborsClassifier(n_neighbors = mean_acc.argmax()+1).fit(X_train,y_train)"
   ]
  },
  {
   "cell_type": "code",
   "execution_count": 73,
   "metadata": {},
   "outputs": [
    {
     "name": "stdout",
     "output_type": "stream",
     "text": [
      "Classification Report:\n",
      "               precision    recall  f1-score   support\n",
      "\n",
      "           0       0.58      0.36      0.45     11259\n",
      "           1       0.54      0.74      0.63     11427\n",
      "\n",
      "    accuracy                           0.56     22686\n",
      "   macro avg       0.56      0.55      0.54     22686\n",
      "weighted avg       0.56      0.56      0.54     22686\n",
      "\n"
     ]
    }
   ],
   "source": [
    "print('Classification Report:\\n',classification_report(y_test, yhat))"
   ]
  },
  {
   "cell_type": "markdown",
   "metadata": {},
   "source": [
    "### Decision Tree <a class=\"anchor\" id=\"4.3\"></a>\n",
    "\n",
    "A decision tree supplies a layout of all possible outcomes in order to analyze the concequences of a decision. It context, the decision tree observes all possible outcomes of different weather conditions."
   ]
  },
  {
   "cell_type": "code",
   "execution_count": 74,
   "metadata": {},
   "outputs": [
    {
     "data": {
      "text/plain": [
       "DecisionTreeClassifier(criterion='entropy', max_depth=7)"
      ]
     },
     "execution_count": 74,
     "metadata": {},
     "output_type": "execute_result"
    }
   ],
   "source": [
    "DT_model = DecisionTreeClassifier(criterion=\"entropy\", max_depth = 7)\n",
    "DT_model.fit(X_train,y_train)"
   ]
  },
  {
   "cell_type": "code",
   "execution_count": 75,
   "metadata": {},
   "outputs": [
    {
     "data": {
      "text/plain": [
       "array([1, 1, 1, ..., 1, 1, 1])"
      ]
     },
     "execution_count": 75,
     "metadata": {},
     "output_type": "execute_result"
    }
   ],
   "source": [
    "yhat = DT_model.predict(X_test)\n",
    "yhat"
   ]
  },
  {
   "cell_type": "code",
   "execution_count": 76,
   "metadata": {},
   "outputs": [
    {
     "name": "stdout",
     "output_type": "stream",
     "text": [
      "Classification Report:\n",
      "               precision    recall  f1-score   support\n",
      "\n",
      "           0       0.60      0.33      0.43     11259\n",
      "           1       0.54      0.78      0.64     11427\n",
      "\n",
      "    accuracy                           0.56     22686\n",
      "   macro avg       0.57      0.56      0.54     22686\n",
      "weighted avg       0.57      0.56      0.54     22686\n",
      "\n"
     ]
    }
   ],
   "source": [
    "print('Classification Report:\\n',classification_report(y_test, yhat))"
   ]
  },
  {
   "cell_type": "markdown",
   "metadata": {},
   "source": [
    "### Random Forest <a class=\"anchor\" id=\"4.4\"></a>"
   ]
  },
  {
   "cell_type": "code",
   "execution_count": 77,
   "metadata": {},
   "outputs": [
    {
     "data": {
      "text/plain": [
       "RandomForestClassifier()"
      ]
     },
     "execution_count": 77,
     "metadata": {},
     "output_type": "execute_result"
    }
   ],
   "source": [
    "RF_Model = RandomForestClassifier(n_estimators=100)\n",
    "RF_Model.fit(X_train,y_train) #train the model"
   ]
  },
  {
   "cell_type": "code",
   "execution_count": 78,
   "metadata": {},
   "outputs": [
    {
     "data": {
      "text/plain": [
       "array([1, 1, 1, ..., 1, 1, 1])"
      ]
     },
     "execution_count": 78,
     "metadata": {},
     "output_type": "execute_result"
    }
   ],
   "source": [
    "yhat = RF_Model.predict(X_test)\n",
    "yhat"
   ]
  },
  {
   "cell_type": "code",
   "execution_count": 79,
   "metadata": {},
   "outputs": [
    {
     "name": "stdout",
     "output_type": "stream",
     "text": [
      "Classification Report:\n",
      "               precision    recall  f1-score   support\n",
      "\n",
      "           0       0.61      0.31      0.41     11259\n",
      "           1       0.54      0.80      0.65     11427\n",
      "\n",
      "    accuracy                           0.56     22686\n",
      "   macro avg       0.58      0.56      0.53     22686\n",
      "weighted avg       0.58      0.56      0.53     22686\n",
      "\n"
     ]
    }
   ],
   "source": [
    "print('Classification Report:\\n',classification_report(y_test, yhat))"
   ]
  },
  {
   "cell_type": "markdown",
   "metadata": {},
   "source": [
    "### Logistic Regression <a class=\"anchor\" id=\"4.6\"></a>\n",
    "\n",
    "The model will only predict one of two classes in the target variables. This makes the data binary, which is perfect to use with logistic regression."
   ]
  },
  {
   "cell_type": "code",
   "execution_count": 80,
   "metadata": {},
   "outputs": [],
   "source": [
    "LR_model = LogisticRegression(C=0.01, class_weight = \"balanced\").fit(X_train,y_train) #train the model"
   ]
  },
  {
   "cell_type": "code",
   "execution_count": 81,
   "metadata": {},
   "outputs": [
    {
     "data": {
      "text/plain": [
       "array([1, 1, 1, ..., 1, 1, 1])"
      ]
     },
     "execution_count": 81,
     "metadata": {},
     "output_type": "execute_result"
    }
   ],
   "source": [
    "yhat = LR_model.predict(X_test)\n",
    "yhat"
   ]
  },
  {
   "cell_type": "code",
   "execution_count": 82,
   "metadata": {},
   "outputs": [
    {
     "name": "stdout",
     "output_type": "stream",
     "text": [
      "Classification Report:\n",
      "               precision    recall  f1-score   support\n",
      "\n",
      "           0       0.60      0.33      0.43     11259\n",
      "           1       0.54      0.79      0.64     11427\n",
      "\n",
      "    accuracy                           0.56     22686\n",
      "   macro avg       0.57      0.56      0.54     22686\n",
      "weighted avg       0.57      0.56      0.54     22686\n",
      "\n"
     ]
    }
   ],
   "source": [
    "print('Classification Report:\\n',classification_report(y_test, yhat))"
   ]
  },
  {
   "cell_type": "markdown",
   "metadata": {},
   "source": [
    "## Results and Evaluation <a class=\"anchor\" id=\"5\"></a>\n",
    "\n",
    "Before proceeding to the deployment stage, the model needs to be evaluated thoroughly to ensure that the business or the applications' objectives are achieved. Certain metrics can be used for the model evaluation such as accuracy, recall, F1-score, precision, and others."
   ]
  },
  {
   "cell_type": "code",
   "execution_count": 83,
   "metadata": {},
   "outputs": [
    {
     "name": "stdout",
     "output_type": "stream",
     "text": [
      "KNN Jaccard index: 0.46\n",
      "KNN F1-score: 0.54\n"
     ]
    }
   ],
   "source": [
    "knn_yhat = kNN_model.predict(X_test)\n",
    "print(\"KNN Jaccard index: %.2f\" % jaccard_score(y_test, knn_yhat))\n",
    "print(\"KNN F1-score: %.2f\" % f1_score(y_test, knn_yhat, average='weighted') )"
   ]
  },
  {
   "cell_type": "code",
   "execution_count": 84,
   "metadata": {},
   "outputs": [
    {
     "name": "stdout",
     "output_type": "stream",
     "text": [
      "DT Jaccard index: 0.47\n",
      "DT F1-score: 0.54\n"
     ]
    }
   ],
   "source": [
    "DT_yhat = DT_model.predict(X_test)\n",
    "print(\"DT Jaccard index: %.2f\" % jaccard_score(y_test, DT_yhat))\n",
    "print(\"DT F1-score: %.2f\" % f1_score(y_test, DT_yhat, average='weighted') )"
   ]
  },
  {
   "cell_type": "code",
   "execution_count": 85,
   "metadata": {},
   "outputs": [
    {
     "name": "stdout",
     "output_type": "stream",
     "text": [
      "RF Jaccard index: 0.48\n",
      "RF F1-score: 0.53\n"
     ]
    }
   ],
   "source": [
    "RF_yhat = RF_Model.predict(X_test)\n",
    "print(\"RF Jaccard index: %.2f\" % jaccard_score(y_test, RF_yhat))\n",
    "print(\"RF F1-score: %.2f\" % f1_score(y_test, RF_yhat, average='weighted') )"
   ]
  },
  {
   "cell_type": "code",
   "execution_count": 86,
   "metadata": {},
   "outputs": [
    {
     "name": "stdout",
     "output_type": "stream",
     "text": [
      "LR Jaccard index: 0.47\n",
      "LR F1-score: 0.54\n",
      "LR LogLoss: 0.67\n"
     ]
    }
   ],
   "source": [
    "LR_yhat = LR_model.predict(X_test)\n",
    "LR_yhat_prob = LR_model.predict_proba(X_test)\n",
    "print(\"LR Jaccard index: %.2f\" % jaccard_score(y_test, LR_yhat))\n",
    "print(\"LR F1-score: %.2f\" % f1_score(y_test, LR_yhat, average='weighted') )\n",
    "print(\"LR LogLoss: %.2f\" % log_loss(y_test, LR_yhat_prob))"
   ]
  },
  {
   "cell_type": "markdown",
   "metadata": {},
   "source": [
    "## Deployment <a class=\"anchor\" id=\"6\"></a>\n",
    "\n",
    "The deployment phase requirements vary from project to project. It can be as simple as creating a report, developing interactive visualization, or making the machine learning model available in the production environment. In this environment, the customers or end-users can utilize the model in different ways such as API, website, or so on."
   ]
  },
  {
   "cell_type": "markdown",
   "metadata": {},
   "source": [
    "### Report  <a class=\"anchor\" id=\"6.1\"></a>\n",
    "Report the accuracy of the built models using different evaluation metrics:"
   ]
  },
  {
   "cell_type": "markdown",
   "metadata": {},
   "source": [
    "| Algorithm           | Jaccard | F1-score | LogLoss |\n",
    "|---------------------|---------|----------|---------|\n",
    "| KNN                 | 0.46    | 0.54     | N/A     |\n",
    "| Decision Tree       | 0.47    | 0.54     | N/A     |\n",
    "| Random Forest       | 0.48    | 0.53     | N/A     |\n",
    "| Logistic Regression | 0.47    | 0.54     | 0.67    |"
   ]
  },
  {
   "cell_type": "markdown",
   "metadata": {},
   "source": [
    "## Conclusion <a class=\"anchor\" id=\"7\"></a>"
   ]
  },
  {
   "cell_type": "markdown",
   "metadata": {},
   "source": [
    "Based on the dataset provided for this capstone project and from the weather, road conditions, and light conditions columns pointing to certain classes, we can conclude that particular conditions have a moderate impact on whether or not car travel could result in property damage (severity = 1) or injury (seveity = 2). Random Forest performed the best here based on the Jaccard Accuracy Score metric."
   ]
  },
  {
   "cell_type": "code",
   "execution_count": null,
   "metadata": {},
   "outputs": [],
   "source": []
  }
 ],
 "metadata": {
  "kernelspec": {
   "display_name": "Python 3",
   "language": "python",
   "name": "python3"
  },
  "language_info": {
   "codemirror_mode": {
    "name": "ipython",
    "version": 3
   },
   "file_extension": ".py",
   "mimetype": "text/x-python",
   "name": "python",
   "nbconvert_exporter": "python",
   "pygments_lexer": "ipython3",
   "version": "3.8.3"
  }
 },
 "nbformat": 4,
 "nbformat_minor": 4
}
